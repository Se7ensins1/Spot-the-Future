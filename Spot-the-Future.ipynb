{
 "cells": [
  {
   "cell_type": "code",
   "execution_count": 1,
   "metadata": {
    "scrolled": true
   },
   "outputs": [
    {
     "name": "stdout",
     "output_type": "stream",
     "text": [
      "Collecting spotipy\n",
      "Requirement already satisfied: requests>=1.0 in /srv/app/venv/lib/python3.6/site-packages (from spotipy)\n",
      "Installing collected packages: spotipy\n",
      "Successfully installed spotipy-2.4.4\n",
      "Requirement already satisfied: requests in /srv/app/venv/lib/python3.6/site-packages\n"
     ]
    }
   ],
   "source": [
    "! pip install spotipy\n",
    "! pip install requests"
   ]
  },
  {
   "cell_type": "code",
   "execution_count": 2,
   "metadata": {},
   "outputs": [],
   "source": [
    "import spotipy\n",
    "import requests\n",
    "from spotipy.oauth2 import SpotifyClientCredentials\n",
    "from datascience import *\n",
    "import numpy as np\n",
    "import csv"
   ]
  },
  {
   "cell_type": "code",
   "execution_count": 4,
   "metadata": {},
   "outputs": [],
   "source": [
    "client_id = \"a6baf8a584134ff3b272d789974bffe4\"\n",
    "client_secret = \"0d3cd888a21e488d98dd767079471ea7\"\n",
    "client_credentials_manager = SpotifyClientCredentials(client_id, client_secret)\n",
    "token = client_credentials_manager.get_access_token()"
   ]
  },
  {
   "cell_type": "code",
   "execution_count": 5,
   "metadata": {},
   "outputs": [],
   "source": [
    "def lookup(ID, feature):\n",
    "    sp = spotipy.Spotify(auth = token)\n",
    "    results = sp.audio_features(ID)\n",
    "    results = results[0]\n",
    "    return results[feature]"
   ]
  },
  {
   "cell_type": "code",
   "execution_count": 3,
   "metadata": {},
   "outputs": [
    {
     "data": {
      "text/html": [
       "<table border=\"1\" class=\"dataframe\">\n",
       "    <thead>\n",
       "        <tr>\n",
       "            <th>Song</th> <th>Artist</th> <th>ID</th>\n",
       "        </tr>\n",
       "    </thead>\n",
       "    <tbody>\n",
       "        <tr>\n",
       "            <td>Love Yourself          </td> <td>Justin Bieber                    </td> <td>50kpGaPAhYJ3sGmk6vplg0</td>\n",
       "        </tr>\n",
       "    </tbody>\n",
       "        <tr>\n",
       "            <td>Sorry                  </td> <td>Justin Bieber                    </td> <td>09CtPGIpYB4BrO8qb1RGsF</td>\n",
       "        </tr>\n",
       "    </tbody>\n",
       "        <tr>\n",
       "            <td>One Dance              </td> <td>Drake featuring Wizkid and Kyla  </td> <td>1zi7xx7UVEFkmKfv06H8x0</td>\n",
       "        </tr>\n",
       "    </tbody>\n",
       "        <tr>\n",
       "            <td>Work                   </td> <td>Rihanna featuring Drake          </td> <td>32lmL4vQAAotg6MrJnhlQZ</td>\n",
       "        </tr>\n",
       "    </tbody>\n",
       "        <tr>\n",
       "            <td>Stressed Out           </td> <td>Twenty One Pilots                </td> <td>3CRDbSIZ4r5MsZ0YwxuEkn</td>\n",
       "        </tr>\n",
       "    </tbody>\n",
       "        <tr>\n",
       "            <td>Panda                  </td> <td>Desiigner                        </td> <td>275a9yzwGB6ncAW4SxY7q3</td>\n",
       "        </tr>\n",
       "    </tbody>\n",
       "        <tr>\n",
       "            <td>Hello                  </td> <td>Adele                            </td> <td>0ENSn4fwAbCGeFGVUbXEU3</td>\n",
       "        </tr>\n",
       "    </tbody>\n",
       "        <tr>\n",
       "            <td>Don't Let Me Down      </td> <td>The Chainsmokers featuring Daya  </td> <td>1i1fxkWeaMmKEB4T7zqbzK</td>\n",
       "        </tr>\n",
       "    </tbody>\n",
       "        <tr>\n",
       "            <td>Can't Stop the Feeling!</td> <td>Justin Timberlake                </td> <td>1WkMMavIMc4JZ8cfMmxHkI</td>\n",
       "        </tr>\n",
       "    </tbody>\n",
       "        <tr>\n",
       "            <td>Closer                 </td> <td>The Chainsmokers featuring Halsey</td> <td>7BKLCZ1jbUBVqRi2FVlTVw</td>\n",
       "        </tr>\n",
       "    </tbody>\n",
       "</table>"
      ],
      "text/plain": [
       "Song                    | Artist                            | ID\n",
       "Love Yourself           | Justin Bieber                     | 50kpGaPAhYJ3sGmk6vplg0\n",
       "Sorry                   | Justin Bieber                     | 09CtPGIpYB4BrO8qb1RGsF\n",
       "One Dance               | Drake featuring Wizkid and Kyla   | 1zi7xx7UVEFkmKfv06H8x0\n",
       "Work                    | Rihanna featuring Drake           | 32lmL4vQAAotg6MrJnhlQZ\n",
       "Stressed Out            | Twenty One Pilots                 | 3CRDbSIZ4r5MsZ0YwxuEkn\n",
       "Panda                   | Desiigner                         | 275a9yzwGB6ncAW4SxY7q3\n",
       "Hello                   | Adele                             | 0ENSn4fwAbCGeFGVUbXEU3\n",
       "Don't Let Me Down       | The Chainsmokers featuring Daya   | 1i1fxkWeaMmKEB4T7zqbzK\n",
       "Can't Stop the Feeling! | Justin Timberlake                 | 1WkMMavIMc4JZ8cfMmxHkI\n",
       "Closer                  | The Chainsmokers featuring Halsey | 7BKLCZ1jbUBVqRi2FVlTVw"
      ]
     },
     "execution_count": 3,
     "metadata": {},
     "output_type": "execute_result"
    }
   ],
   "source": [
    "data = Table.read_table(\"billboard_top_100 - 2016.csv\")\n",
    "data.take(np.arange(10))"
   ]
  },
  {
   "cell_type": "code",
   "execution_count": 7,
   "metadata": {},
   "outputs": [],
   "source": [
    "features = [\n",
    " 'danceability',\n",
    " 'energy',\n",
    " 'key',\n",
    " 'loudness',\n",
    " 'mode',\n",
    " 'speechiness',\n",
    " 'acousticness',\n",
    " 'instrumentalness',\n",
    " 'liveness',\n",
    " 'valence',\n",
    " 'tempo',\n",
    " 'duration_ms',\n",
    " 'time_signature']"
   ]
  },
  {
   "cell_type": "code",
   "execution_count": 10,
   "metadata": {},
   "outputs": [
    {
     "data": {
      "text/html": [
       "<table border=\"1\" class=\"dataframe\">\n",
       "    <thead>\n",
       "        <tr>\n",
       "            <th>Song</th> <th>Artist</th> <th>ID</th> <th>danceability</th> <th>energy</th> <th>key</th> <th>loudness</th> <th>mode</th> <th>speechiness</th> <th>acousticness</th> <th>instrumentalness</th> <th>liveness</th> <th>valence</th> <th>tempo</th> <th>duration_ms</th> <th>time_signature</th>\n",
       "        </tr>\n",
       "    </thead>\n",
       "    <tbody>\n",
       "        <tr>\n",
       "            <td>Love Yourself          </td> <td>Justin Bieber                    </td> <td>50kpGaPAhYJ3sGmk6vplg0</td> <td>0.607       </td> <td>0.376 </td> <td>4   </td> <td>-9.954  </td> <td>1   </td> <td>0.453      </td> <td>0.856       </td> <td>0               </td> <td>0.285   </td> <td>0.545  </td> <td>102.541</td> <td>233720     </td> <td>4             </td>\n",
       "        </tr>\n",
       "    </tbody>\n",
       "        <tr>\n",
       "            <td>Sorry                  </td> <td>Justin Bieber                    </td> <td>09CtPGIpYB4BrO8qb1RGsF</td> <td>0.605       </td> <td>0.768 </td> <td>0   </td> <td>-3.724  </td> <td>0   </td> <td>0.0476     </td> <td>0.0865      </td> <td>0               </td> <td>0.308   </td> <td>0.414  </td> <td>100.209</td> <td>200787     </td> <td>4             </td>\n",
       "        </tr>\n",
       "    </tbody>\n",
       "        <tr>\n",
       "            <td>One Dance              </td> <td>Drake featuring Wizkid and Kyla  </td> <td>1zi7xx7UVEFkmKfv06H8x0</td> <td>0.796       </td> <td>0.61  </td> <td>1   </td> <td>-5.857  </td> <td>1   </td> <td>0.0516     </td> <td>0.00842     </td> <td>0.00286         </td> <td>0.351   </td> <td>0.391  </td> <td>103.99 </td> <td>173987     </td> <td>4             </td>\n",
       "        </tr>\n",
       "    </tbody>\n",
       "        <tr>\n",
       "            <td>Work                   </td> <td>Rihanna featuring Drake          </td> <td>32lmL4vQAAotg6MrJnhlQZ</td> <td>0.667       </td> <td>0.538 </td> <td>11  </td> <td>-6.294  </td> <td>1   </td> <td>0.0953     </td> <td>0.0644      </td> <td>0               </td> <td>0.0928  </td> <td>0.527  </td> <td>91.296 </td> <td>219320     </td> <td>4             </td>\n",
       "        </tr>\n",
       "    </tbody>\n",
       "        <tr>\n",
       "            <td>Stressed Out           </td> <td>Twenty One Pilots                </td> <td>3CRDbSIZ4r5MsZ0YwxuEkn</td> <td>0.734       </td> <td>0.637 </td> <td>4   </td> <td>-5.677  </td> <td>0   </td> <td>0.141      </td> <td>0.0462      </td> <td>2.29e-05        </td> <td>0.0602  </td> <td>0.648  </td> <td>169.977</td> <td>202333     </td> <td>4             </td>\n",
       "        </tr>\n",
       "    </tbody>\n",
       "        <tr>\n",
       "            <td>Panda                  </td> <td>Desiigner                        </td> <td>275a9yzwGB6ncAW4SxY7q3</td> <td>0.72        </td> <td>0.748 </td> <td>10  </td> <td>-5.522  </td> <td>0   </td> <td>0.393      </td> <td>0.0235      </td> <td>0               </td> <td>0.369   </td> <td>0.246  </td> <td>145.22 </td> <td>247867     </td> <td>4             </td>\n",
       "        </tr>\n",
       "    </tbody>\n",
       "        <tr>\n",
       "            <td>Hello                  </td> <td>Adele                            </td> <td>0ENSn4fwAbCGeFGVUbXEU3</td> <td>0.481       </td> <td>0.451 </td> <td>5   </td> <td>-6.095  </td> <td>0   </td> <td>0.0347     </td> <td>0.336       </td> <td>0               </td> <td>0.0872  </td> <td>0.289  </td> <td>157.966</td> <td>295493     </td> <td>4             </td>\n",
       "        </tr>\n",
       "    </tbody>\n",
       "        <tr>\n",
       "            <td>Don't Let Me Down      </td> <td>The Chainsmokers featuring Daya  </td> <td>1i1fxkWeaMmKEB4T7zqbzK</td> <td>0.532       </td> <td>0.869 </td> <td>11  </td> <td>-5.094  </td> <td>1   </td> <td>0.172      </td> <td>0.157       </td> <td>0.00508         </td> <td>0.136   </td> <td>0.422  </td> <td>159.803</td> <td>208373     </td> <td>4             </td>\n",
       "        </tr>\n",
       "    </tbody>\n",
       "        <tr>\n",
       "            <td>Can't Stop the Feeling!</td> <td>Justin Timberlake                </td> <td>1WkMMavIMc4JZ8cfMmxHkI</td> <td>0.669       </td> <td>0.832 </td> <td>0   </td> <td>-5.72   </td> <td>1   </td> <td>0.0682     </td> <td>0.0106      </td> <td>0               </td> <td>0.0968  </td> <td>0.7    </td> <td>113.035</td> <td>237547     </td> <td>4             </td>\n",
       "        </tr>\n",
       "    </tbody>\n",
       "        <tr>\n",
       "            <td>Closer                 </td> <td>The Chainsmokers featuring Halsey</td> <td>7BKLCZ1jbUBVqRi2FVlTVw</td> <td>0.748       </td> <td>0.524 </td> <td>8   </td> <td>-5.599  </td> <td>1   </td> <td>0.0338     </td> <td>0.414       </td> <td>0               </td> <td>0.111   </td> <td>0.661  </td> <td>95.01  </td> <td>244960     </td> <td>4             </td>\n",
       "        </tr>\n",
       "    </tbody>\n",
       "</table>\n",
       "<p>... (90 rows omitted)</p"
      ],
      "text/plain": [
       "Song                    | Artist                            | ID                     | danceability | energy | key  | loudness | mode | speechiness | acousticness | instrumentalness | liveness | valence | tempo   | duration_ms | time_signature\n",
       "Love Yourself           | Justin Bieber                     | 50kpGaPAhYJ3sGmk6vplg0 | 0.607        | 0.376  | 4    | -9.954   | 1    | 0.453       | 0.856        | 0                | 0.285    | 0.545   | 102.541 | 233720      | 4\n",
       "Sorry                   | Justin Bieber                     | 09CtPGIpYB4BrO8qb1RGsF | 0.605        | 0.768  | 0    | -3.724   | 0    | 0.0476      | 0.0865       | 0                | 0.308    | 0.414   | 100.209 | 200787      | 4\n",
       "One Dance               | Drake featuring Wizkid and Kyla   | 1zi7xx7UVEFkmKfv06H8x0 | 0.796        | 0.61   | 1    | -5.857   | 1    | 0.0516      | 0.00842      | 0.00286          | 0.351    | 0.391   | 103.99  | 173987      | 4\n",
       "Work                    | Rihanna featuring Drake           | 32lmL4vQAAotg6MrJnhlQZ | 0.667        | 0.538  | 11   | -6.294   | 1    | 0.0953      | 0.0644       | 0                | 0.0928   | 0.527   | 91.296  | 219320      | 4\n",
       "Stressed Out            | Twenty One Pilots                 | 3CRDbSIZ4r5MsZ0YwxuEkn | 0.734        | 0.637  | 4    | -5.677   | 0    | 0.141       | 0.0462       | 2.29e-05         | 0.0602   | 0.648   | 169.977 | 202333      | 4\n",
       "Panda                   | Desiigner                         | 275a9yzwGB6ncAW4SxY7q3 | 0.72         | 0.748  | 10   | -5.522   | 0    | 0.393       | 0.0235       | 0                | 0.369    | 0.246   | 145.22  | 247867      | 4\n",
       "Hello                   | Adele                             | 0ENSn4fwAbCGeFGVUbXEU3 | 0.481        | 0.451  | 5    | -6.095   | 0    | 0.0347      | 0.336        | 0                | 0.0872   | 0.289   | 157.966 | 295493      | 4\n",
       "Don't Let Me Down       | The Chainsmokers featuring Daya   | 1i1fxkWeaMmKEB4T7zqbzK | 0.532        | 0.869  | 11   | -5.094   | 1    | 0.172       | 0.157        | 0.00508          | 0.136    | 0.422   | 159.803 | 208373      | 4\n",
       "Can't Stop the Feeling! | Justin Timberlake                 | 1WkMMavIMc4JZ8cfMmxHkI | 0.669        | 0.832  | 0    | -5.72    | 1    | 0.0682      | 0.0106       | 0                | 0.0968   | 0.7     | 113.035 | 237547      | 4\n",
       "Closer                  | The Chainsmokers featuring Halsey | 7BKLCZ1jbUBVqRi2FVlTVw | 0.748        | 0.524  | 8    | -5.599   | 1    | 0.0338      | 0.414        | 0                | 0.111    | 0.661   | 95.01   | 244960      | 4\n",
       "... (90 rows omitted)"
      ]
     },
     "execution_count": 10,
     "metadata": {},
     "output_type": "execute_result"
    }
   ],
   "source": [
    "for feature in features:\n",
    "    data = data.with_column(feature, [lookup(ID, feature) for ID in data.column(\"ID\")])\n",
    "data"
   ]
  },
  {
   "cell_type": "code",
   "execution_count": 11,
   "metadata": {},
   "outputs": [],
   "source": [
    "song = [i for i in data.column(0)]\n",
    "artist = [i for i in data.column(1)]\n",
    "ID = [i for i in data.column(2)]\n",
    "danceability = [i for i in data.column(3)]\n",
    "energy = [i for i in data.column(4)]\n",
    "key = [i for i in data.column(5)]\n",
    "loudness = [i for i in data.column(6)]\n",
    "mode = [i for i in data.column(7)]\n",
    "speechiness = [i for i in data.column(8)]\n",
    "acousticness = [i for i in data.column(9)]\n",
    "instrumentalness = [i for i in data.column(10)]\n",
    "liveness = [i for i in data.column(11)]\n",
    "valence = [i for i in data.column(12)]\n",
    "tempo = [i for i in data.column(13)]\n",
    "duration_ms = [i for i in data.column(14)]\n",
    "time_signature = [i for i in data.column(15)]"
   ]
  },
  {
   "cell_type": "code",
   "execution_count": 22,
   "metadata": {},
   "outputs": [],
   "source": [
    "data_2016 = [['song', 'artist', 'id'] + features]\n",
    "for a, b, c, d, e, f, g, h, i, j, k, l, m, n, o, p in zip(song,\n",
    "                                                          artist,\n",
    "                                                          ID,\n",
    "                                                          danceability,\n",
    "                                                          energy,\n",
    "                                                          key,\n",
    "                                                          loudness,\n",
    "                                                          mode,\n",
    "                                                          speechiness,\n",
    "                                                          acousticness,\n",
    "                                                          instrumentalness,\n",
    "                                                          liveness,\n",
    "                                                          valence,\n",
    "                                                          tempo,\n",
    "                                                          duration_ms,\n",
    "                                                          time_signature):\n",
    "    data_2016.append([a, b, c, d, e, f, g, h, i, j, k, l, m, n, o, p])"
   ]
  },
  {
   "cell_type": "code",
   "execution_count": 23,
   "metadata": {},
   "outputs": [],
   "source": [
    "with open(\"top_songs_2016.csv\", \"w\") as f:\n",
    "    writer = csv.writer(f)\n",
    "    writer.writerows(data_2016)"
   ]
  }
 ],
 "metadata": {
  "kernelspec": {
   "display_name": "Python 3",
   "language": "python",
   "name": "python3"
  },
  "language_info": {
   "codemirror_mode": {
    "name": "ipython",
    "version": 3
   },
   "file_extension": ".py",
   "mimetype": "text/x-python",
   "name": "python",
   "nbconvert_exporter": "python",
   "pygments_lexer": "ipython3",
   "version": "3.6.1"
  }
 },
 "nbformat": 4,
 "nbformat_minor": 2
}
