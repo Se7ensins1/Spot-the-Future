{
 "cells": [
  {
   "cell_type": "code",
   "execution_count": 9,
   "metadata": {
    "scrolled": true
   },
   "outputs": [
    {
     "name": "stdout",
     "output_type": "stream",
     "text": [
      "Requirement already satisfied: spotipy in /srv/app/venv/lib/python3.6/site-packages\n",
      "Requirement already satisfied: requests>=1.0 in /srv/app/venv/lib/python3.6/site-packages (from spotipy)\n",
      "Requirement already satisfied: requests in /srv/app/venv/lib/python3.6/site-packages\n"
     ]
    }
   ],
   "source": [
    "! pip install spotipy\n",
    "! pip install requests"
   ]
  },
  {
   "cell_type": "code",
   "execution_count": 10,
   "metadata": {},
   "outputs": [],
   "source": [
    "import spotipy\n",
    "import requests\n",
    "from spotipy.oauth2 import SpotifyClientCredentials"
   ]
  },
  {
   "cell_type": "code",
   "execution_count": 30,
   "metadata": {},
   "outputs": [],
   "source": [
    "client_id = \"a6baf8a584134ff3b272d789974bffe4\"\n",
    "client_secret = \"0d3cd888a21e488d98dd767079471ea7\"\n",
    "client_credentials_manager = SpotifyClientCredentials(client_id, client_secret)\n",
    "token = client_credentials_manager.get_access_token()"
   ]
  },
  {
   "cell_type": "code",
   "execution_count": 31,
   "metadata": {},
   "outputs": [],
   "source": [
    "def lookup(id, feature):\n",
    "    sp = spotipy.Spotify(auth=token)\n",
    "    results = sp.audio_features(id)\n",
    "    results = results[0]\n",
    "    return results[feature]"
   ]
  },
  {
   "cell_type": "code",
   "execution_count": 54,
   "metadata": {},
   "outputs": [
    {
     "data": {
      "text/html": [
       "<table border=\"1\" class=\"dataframe\">\n",
       "    <thead>\n",
       "        <tr>\n",
       "            <th>Song</th> <th>Artist</th> <th>ID</th>\n",
       "        </tr>\n",
       "    </thead>\n",
       "    <tbody>\n",
       "        <tr>\n",
       "            <td>Love Yourself          </td> <td>Justin Bieber                    </td> <td>50kpGaPAhYJ3sGmk6vplg0</td>\n",
       "        </tr>\n",
       "    </tbody>\n",
       "        <tr>\n",
       "            <td>Sorry                  </td> <td>Justin Bieber                    </td> <td>09CtPGIpYB4BrO8qb1RGsF</td>\n",
       "        </tr>\n",
       "    </tbody>\n",
       "        <tr>\n",
       "            <td>One Dance              </td> <td>Drake featuring Wizkid and Kyla  </td> <td>1zi7xx7UVEFkmKfv06H8x0</td>\n",
       "        </tr>\n",
       "    </tbody>\n",
       "        <tr>\n",
       "            <td>Work                   </td> <td>Rihanna featuring Drake          </td> <td>32lmL4vQAAotg6MrJnhlQZ</td>\n",
       "        </tr>\n",
       "    </tbody>\n",
       "        <tr>\n",
       "            <td>Stressed Out           </td> <td>Twenty One Pilots                </td> <td>3CRDbSIZ4r5MsZ0YwxuEkn</td>\n",
       "        </tr>\n",
       "    </tbody>\n",
       "        <tr>\n",
       "            <td>Panda                  </td> <td>Desiigner                        </td> <td>275a9yzwGB6ncAW4SxY7q3</td>\n",
       "        </tr>\n",
       "    </tbody>\n",
       "        <tr>\n",
       "            <td>Hello                  </td> <td>Adele                            </td> <td>0ENSn4fwAbCGeFGVUbXEU3</td>\n",
       "        </tr>\n",
       "    </tbody>\n",
       "        <tr>\n",
       "            <td>Don't Let Me Down      </td> <td>The Chainsmokers featuring Daya  </td> <td>1i1fxkWeaMmKEB4T7zqbzK</td>\n",
       "        </tr>\n",
       "    </tbody>\n",
       "        <tr>\n",
       "            <td>Can't Stop the Feeling!</td> <td>Justin Timberlake                </td> <td>1WkMMavIMc4JZ8cfMmxHkI</td>\n",
       "        </tr>\n",
       "    </tbody>\n",
       "        <tr>\n",
       "            <td>Closer                 </td> <td>The Chainsmokers featuring Halsey</td> <td>7BKLCZ1jbUBVqRi2FVlTVw</td>\n",
       "        </tr>\n",
       "    </tbody>\n",
       "</table>"
      ],
      "text/plain": [
       "Song                    | Artist                            | ID\n",
       "Love Yourself           | Justin Bieber                     | 50kpGaPAhYJ3sGmk6vplg0\n",
       "Sorry                   | Justin Bieber                     | 09CtPGIpYB4BrO8qb1RGsF\n",
       "One Dance               | Drake featuring Wizkid and Kyla   | 1zi7xx7UVEFkmKfv06H8x0\n",
       "Work                    | Rihanna featuring Drake           | 32lmL4vQAAotg6MrJnhlQZ\n",
       "Stressed Out            | Twenty One Pilots                 | 3CRDbSIZ4r5MsZ0YwxuEkn\n",
       "Panda                   | Desiigner                         | 275a9yzwGB6ncAW4SxY7q3\n",
       "Hello                   | Adele                             | 0ENSn4fwAbCGeFGVUbXEU3\n",
       "Don't Let Me Down       | The Chainsmokers featuring Daya   | 1i1fxkWeaMmKEB4T7zqbzK\n",
       "Can't Stop the Feeling! | Justin Timberlake                 | 1WkMMavIMc4JZ8cfMmxHkI\n",
       "Closer                  | The Chainsmokers featuring Halsey | 7BKLCZ1jbUBVqRi2FVlTVw"
      ]
     },
     "execution_count": 54,
     "metadata": {},
     "output_type": "execute_result"
    }
   ],
   "source": [
    "from datascience import *\n",
    "import numpy as np\n",
    "data = Table.read_table(\"Dataset of billboard top 100 2012-2016 - 2016.csv\")\n",
    "data.take(np.arange(10))"
   ]
  },
  {
   "cell_type": "code",
   "execution_count": null,
   "metadata": {},
   "outputs": [],
   "source": [
    "features = list(sp.audio_features('50kpGaPAhYJ3sGmk6vplg0')[0].keys())"
   ]
  },
  {
   "cell_type": "code",
   "execution_count": 62,
   "metadata": {},
   "outputs": [
    {
     "data": {
      "text/plain": [
       "['danceability',\n",
       " 'energy',\n",
       " 'key',\n",
       " 'loudness',\n",
       " 'mode',\n",
       " 'speechiness',\n",
       " 'acousticness',\n",
       " 'instrumentalness',\n",
       " 'liveness',\n",
       " 'valence',\n",
       " 'tempo',\n",
       " 'duration_ms',\n",
       " 'time_signature']"
      ]
     },
     "execution_count": 62,
     "metadata": {},
     "output_type": "execute_result"
    }
   ],
   "source": [
    "features = [\n",
    " 'danceability',\n",
    " 'energy',\n",
    " 'key',\n",
    " 'loudness',\n",
    " 'mode',\n",
    " 'speechiness',\n",
    " 'acousticness',\n",
    " 'instrumentalness',\n",
    " 'liveness',\n",
    " 'valence',\n",
    " 'tempo',\n",
    " 'duration_ms',\n",
    " 'time_signature']"
   ]
  },
  {
   "cell_type": "code",
   "execution_count": 65,
   "metadata": {},
   "outputs": [],
   "source": [
    "features3 = [\"danceability\", \"energy\", \"key\"]"
   ]
  },
  {
   "cell_type": "code",
   "execution_count": 66,
   "metadata": {},
   "outputs": [],
   "source": [
    "for feature in features3:\n",
    "    data = data.with_column(feature, [lookup(song, feature) for song in data.column(\"ID\")])"
   ]
  },
  {
   "cell_type": "code",
   "execution_count": 71,
   "metadata": {},
   "outputs": [
    {
     "data": {
      "text/html": [
       "<table border=\"1\" class=\"dataframe\">\n",
       "    <thead>\n",
       "        <tr>\n",
       "            <th>Song</th> <th>Artist</th> <th>ID</th> <th>danceability</th> <th>energy</th> <th>key</th>\n",
       "        </tr>\n",
       "    </thead>\n",
       "    <tbody>\n",
       "        <tr>\n",
       "            <td>Love Yourself          </td> <td>Justin Bieber                    </td> <td>50kpGaPAhYJ3sGmk6vplg0</td> <td>0.607       </td> <td>0.376 </td> <td>4   </td>\n",
       "        </tr>\n",
       "    </tbody>\n",
       "        <tr>\n",
       "            <td>Sorry                  </td> <td>Justin Bieber                    </td> <td>09CtPGIpYB4BrO8qb1RGsF</td> <td>0.605       </td> <td>0.768 </td> <td>0   </td>\n",
       "        </tr>\n",
       "    </tbody>\n",
       "        <tr>\n",
       "            <td>One Dance              </td> <td>Drake featuring Wizkid and Kyla  </td> <td>1zi7xx7UVEFkmKfv06H8x0</td> <td>0.796       </td> <td>0.61  </td> <td>1   </td>\n",
       "        </tr>\n",
       "    </tbody>\n",
       "        <tr>\n",
       "            <td>Work                   </td> <td>Rihanna featuring Drake          </td> <td>32lmL4vQAAotg6MrJnhlQZ</td> <td>0.667       </td> <td>0.538 </td> <td>11  </td>\n",
       "        </tr>\n",
       "    </tbody>\n",
       "        <tr>\n",
       "            <td>Stressed Out           </td> <td>Twenty One Pilots                </td> <td>3CRDbSIZ4r5MsZ0YwxuEkn</td> <td>0.734       </td> <td>0.637 </td> <td>4   </td>\n",
       "        </tr>\n",
       "    </tbody>\n",
       "        <tr>\n",
       "            <td>Panda                  </td> <td>Desiigner                        </td> <td>275a9yzwGB6ncAW4SxY7q3</td> <td>0.72        </td> <td>0.748 </td> <td>10  </td>\n",
       "        </tr>\n",
       "    </tbody>\n",
       "        <tr>\n",
       "            <td>Hello                  </td> <td>Adele                            </td> <td>0ENSn4fwAbCGeFGVUbXEU3</td> <td>0.481       </td> <td>0.451 </td> <td>5   </td>\n",
       "        </tr>\n",
       "    </tbody>\n",
       "        <tr>\n",
       "            <td>Don't Let Me Down      </td> <td>The Chainsmokers featuring Daya  </td> <td>1i1fxkWeaMmKEB4T7zqbzK</td> <td>0.532       </td> <td>0.869 </td> <td>11  </td>\n",
       "        </tr>\n",
       "    </tbody>\n",
       "        <tr>\n",
       "            <td>Can't Stop the Feeling!</td> <td>Justin Timberlake                </td> <td>1WkMMavIMc4JZ8cfMmxHkI</td> <td>0.669       </td> <td>0.832 </td> <td>0   </td>\n",
       "        </tr>\n",
       "    </tbody>\n",
       "        <tr>\n",
       "            <td>Closer                 </td> <td>The Chainsmokers featuring Halsey</td> <td>7BKLCZ1jbUBVqRi2FVlTVw</td> <td>0.748       </td> <td>0.524 </td> <td>8   </td>\n",
       "        </tr>\n",
       "    </tbody>\n",
       "</table>\n",
       "<p>... (90 rows omitted)</p"
      ],
      "text/plain": [
       "Song                    | Artist                            | ID                     | danceability | energy | key\n",
       "Love Yourself           | Justin Bieber                     | 50kpGaPAhYJ3sGmk6vplg0 | 0.607        | 0.376  | 4\n",
       "Sorry                   | Justin Bieber                     | 09CtPGIpYB4BrO8qb1RGsF | 0.605        | 0.768  | 0\n",
       "One Dance               | Drake featuring Wizkid and Kyla   | 1zi7xx7UVEFkmKfv06H8x0 | 0.796        | 0.61   | 1\n",
       "Work                    | Rihanna featuring Drake           | 32lmL4vQAAotg6MrJnhlQZ | 0.667        | 0.538  | 11\n",
       "Stressed Out            | Twenty One Pilots                 | 3CRDbSIZ4r5MsZ0YwxuEkn | 0.734        | 0.637  | 4\n",
       "Panda                   | Desiigner                         | 275a9yzwGB6ncAW4SxY7q3 | 0.72         | 0.748  | 10\n",
       "Hello                   | Adele                             | 0ENSn4fwAbCGeFGVUbXEU3 | 0.481        | 0.451  | 5\n",
       "Don't Let Me Down       | The Chainsmokers featuring Daya   | 1i1fxkWeaMmKEB4T7zqbzK | 0.532        | 0.869  | 11\n",
       "Can't Stop the Feeling! | Justin Timberlake                 | 1WkMMavIMc4JZ8cfMmxHkI | 0.669        | 0.832  | 0\n",
       "Closer                  | The Chainsmokers featuring Halsey | 7BKLCZ1jbUBVqRi2FVlTVw | 0.748        | 0.524  | 8\n",
       "... (90 rows omitted)"
      ]
     },
     "execution_count": 71,
     "metadata": {},
     "output_type": "execute_result"
    }
   ],
   "source": [
    "data"
   ]
  },
  {
   "cell_type": "code",
   "execution_count": 89,
   "metadata": {},
   "outputs": [],
   "source": [
    "song = [i for i in data.column(0)]\n",
    "artist = [i for i in data.column(1)]\n",
    "ID = [i for i in data.column(2)]\n",
    "danceability = [i for i in data.column(3)]\n",
    "energy = [i for i in data.column(4)]\n",
    "key = [i for i in data.column(5)]"
   ]
  },
  {
   "cell_type": "code",
   "execution_count": 100,
   "metadata": {},
   "outputs": [],
   "source": [
    "data_2016 = []\n",
    "for a, b, c, d, e, f in zip(song, artist, ID, danceability, energy, key):\n",
    "    data_2016.append([a, b, c, d, e, f])"
   ]
  },
  {
   "cell_type": "code",
   "execution_count": 101,
   "metadata": {},
   "outputs": [],
   "source": [
    "with open(\"2016_songs.csv\", \"w\") as f:\n",
    "    writer = csv.writer(f)\n",
    "    writer.writerows(data_2016)"
   ]
  }
 ],
 "metadata": {
  "kernelspec": {
   "display_name": "Python 3",
   "language": "python",
   "name": "python3"
  },
  "language_info": {
   "codemirror_mode": {
    "name": "ipython",
    "version": 3
   },
   "file_extension": ".py",
   "mimetype": "text/x-python",
   "name": "python",
   "nbconvert_exporter": "python",
   "pygments_lexer": "ipython3",
   "version": "3.6.1"
  }
 },
 "nbformat": 4,
 "nbformat_minor": 2
}
