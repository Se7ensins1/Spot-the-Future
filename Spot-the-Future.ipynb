{
 "cells": [
  {
   "cell_type": "code",
   "execution_count": 3,
   "metadata": {
    "scrolled": true
   },
   "outputs": [
    {
     "name": "stdout",
     "output_type": "stream",
     "text": [
      "Collecting spotipy\n",
      "  Downloading spotipy-2.4.4.tar.gz\n",
      "Requirement already satisfied: requests>=1.0 in c:\\users\\anast\\appdata\\local\\programs\\python\\python36\\lib\\site-packages (from spotipy)\n",
      "Requirement already satisfied: idna<2.7,>=2.5 in c:\\users\\anast\\appdata\\local\\programs\\python\\python36\\lib\\site-packages (from requests>=1.0->spotipy)\n",
      "Requirement already satisfied: certifi>=2017.4.17 in c:\\users\\anast\\appdata\\local\\programs\\python\\python36\\lib\\site-packages (from requests>=1.0->spotipy)\n",
      "Requirement already satisfied: urllib3<1.23,>=1.21.1 in c:\\users\\anast\\appdata\\local\\programs\\python\\python36\\lib\\site-packages (from requests>=1.0->spotipy)\n",
      "Requirement already satisfied: chardet<3.1.0,>=3.0.2 in c:\\users\\anast\\appdata\\local\\programs\\python\\python36\\lib\\site-packages (from requests>=1.0->spotipy)\n",
      "Installing collected packages: spotipy\n",
      "  Running setup.py install for spotipy: started\n",
      "    Running setup.py install for spotipy: finished with status 'done'\n",
      "Successfully installed spotipy-2.4.4\n"
     ]
    }
   ],
   "source": [
    "! pip install spotipy"
   ]
  },
  {
   "cell_type": "code",
   "execution_count": 6,
   "metadata": {
    "collapsed": true
   },
   "outputs": [],
   "source": [
    "import spotipy"
   ]
  },
  {
   "cell_type": "code",
   "execution_count": 4,
   "metadata": {
    "collapsed": true
   },
   "outputs": [],
   "source": [
    "client_id = \"e8d0787b28bc4017b6b5ded21f7bdbfb\"\n",
    "client_secret = \"e91e0cbba59d4fe298dd738f7d98a5fb\""
   ]
  },
  {
   "cell_type": "code",
   "execution_count": 11,
   "metadata": {},
   "outputs": [
    {
     "ename": "AttributeError",
     "evalue": "module 'spotipy' has no attribute 'SpotifyOAuth'",
     "output_type": "error",
     "traceback": [
      "\u001b[1;31m---------------------------------------------------------------------------\u001b[0m",
      "\u001b[1;31mAttributeError\u001b[0m                            Traceback (most recent call last)",
      "\u001b[1;32m<ipython-input-11-1177d15a12e2>\u001b[0m in \u001b[0;36m<module>\u001b[1;34m()\u001b[0m\n\u001b[1;32m----> 1\u001b[1;33m \u001b[0mauth\u001b[0m \u001b[1;33m=\u001b[0m \u001b[0mspotipy\u001b[0m\u001b[1;33m.\u001b[0m\u001b[0mSpotifyOAuth\u001b[0m\u001b[1;33m(\u001b[0m\u001b[0mclient_id\u001b[0m\u001b[1;33m,\u001b[0m \u001b[0mclient_secret\u001b[0m\u001b[1;33m)\u001b[0m\u001b[1;33m\u001b[0m\u001b[0m\n\u001b[0m",
      "\u001b[1;31mAttributeError\u001b[0m: module 'spotipy' has no attribute 'SpotifyOAuth'"
     ]
    }
   ],
   "source": [
    "auth = spotipy.SpotifyOAuth(client_id, client_secret)"
   ]
  },
  {
   "cell_type": "code",
   "execution_count": 9,
   "metadata": {
    "collapsed": true
   },
   "outputs": [],
   "source": [
    "spotipy?"
   ]
  },
  {
   "cell_type": "code",
   "execution_count": null,
   "metadata": {
    "collapsed": true
   },
   "outputs": [],
   "source": []
  }
 ],
 "metadata": {
  "kernelspec": {
   "display_name": "Python 3",
   "language": "python",
   "name": "python3"
  },
  "language_info": {
   "codemirror_mode": {
    "name": "ipython",
    "version": 3
   },
   "file_extension": ".py",
   "mimetype": "text/x-python",
   "name": "python",
   "nbconvert_exporter": "python",
   "pygments_lexer": "ipython3",
   "version": "3.6.2"
  }
 },
 "nbformat": 4,
 "nbformat_minor": 2
}
