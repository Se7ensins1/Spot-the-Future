{
 "cells": [
  {
   "cell_type": "code",
   "execution_count": 1,
   "metadata": {
    "scrolled": true
   },
   "outputs": [
    {
     "name": "stdout",
     "output_type": "stream",
     "text": [
      "Requirement already satisfied: spotipy in c:\\users\\anast\\appdata\\local\\programs\\python\\python36\\lib\\site-packages\n",
      "Requirement already satisfied: requests>=1.0 in c:\\users\\anast\\appdata\\local\\programs\\python\\python36\\lib\\site-packages (from spotipy)\n",
      "Requirement already satisfied: chardet<3.1.0,>=3.0.2 in c:\\users\\anast\\appdata\\local\\programs\\python\\python36\\lib\\site-packages (from requests>=1.0->spotipy)\n",
      "Requirement already satisfied: certifi>=2017.4.17 in c:\\users\\anast\\appdata\\local\\programs\\python\\python36\\lib\\site-packages (from requests>=1.0->spotipy)\n",
      "Requirement already satisfied: urllib3<1.23,>=1.21.1 in c:\\users\\anast\\appdata\\local\\programs\\python\\python36\\lib\\site-packages (from requests>=1.0->spotipy)\n",
      "Requirement already satisfied: idna<2.7,>=2.5 in c:\\users\\anast\\appdata\\local\\programs\\python\\python36\\lib\\site-packages (from requests>=1.0->spotipy)\n",
      "Requirement already satisfied: requests in c:\\users\\anast\\appdata\\local\\programs\\python\\python36\\lib\\site-packages\n",
      "Requirement already satisfied: certifi>=2017.4.17 in c:\\users\\anast\\appdata\\local\\programs\\python\\python36\\lib\\site-packages (from requests)\n",
      "Requirement already satisfied: urllib3<1.23,>=1.21.1 in c:\\users\\anast\\appdata\\local\\programs\\python\\python36\\lib\\site-packages (from requests)\n",
      "Requirement already satisfied: chardet<3.1.0,>=3.0.2 in c:\\users\\anast\\appdata\\local\\programs\\python\\python36\\lib\\site-packages (from requests)\n",
      "Requirement already satisfied: idna<2.7,>=2.5 in c:\\users\\anast\\appdata\\local\\programs\\python\\python36\\lib\\site-packages (from requests)\n"
     ]
    }
   ],
   "source": [
    "! pip install spotipy\n",
    "! pip install requests"
   ]
  },
  {
   "cell_type": "code",
   "execution_count": 2,
   "metadata": {
    "collapsed": true
   },
   "outputs": [],
   "source": [
    "import spotipy\n",
    "import requests"
   ]
  },
  {
   "cell_type": "code",
   "execution_count": 5,
   "metadata": {
    "collapsed": true
   },
   "outputs": [],
   "source": [
    "client_id = \"BQD5iQvlda9VsvUK-Hpr4wjUl69iImQIYvlW2kEgvXdMN-1peaYFS8yv-l1ES9oZ5XktxTnKevsMbdkdAvPvzVJhcCWC4LfUiJ24iQ-L4bMhBkyoTQISB0PVYKBuFx9hKjRkyphGXnv6-MW0RvLehx1FJHU\"\n",
    "name = \"weezer\""
   ]
  },
  {
   "cell_type": "code",
   "execution_count": 7,
   "metadata": {},
   "outputs": [],
   "source": [
    "sp = spotipy.Spotify(auth=client_id)\n",
    "results = sp.search(q='artist:' + name, type='artist')"
   ]
  },
  {
   "cell_type": "code",
   "execution_count": 8,
   "metadata": {},
   "outputs": [
    {
     "data": {
      "text/plain": [
       "{'artists': {'href': 'https://api.spotify.com/v1/search?query=artist%3Aweezer&type=artist&market=US&offset=0&limit=10',\n",
       "  'items': [{'external_urls': {'spotify': 'https://open.spotify.com/artist/3jOstUTkEu2JkjvRdBA5Gu'},\n",
       "    'followers': {'href': None, 'total': 1018531},\n",
       "    'genres': ['alternative metal',\n",
       "     'alternative rock',\n",
       "     'garage rock',\n",
       "     'indie christmas',\n",
       "     'indie pop',\n",
       "     'indie rock',\n",
       "     'modern rock',\n",
       "     'permanent wave',\n",
       "     'pop christmas',\n",
       "     'pop punk',\n",
       "     'pop rock',\n",
       "     'post-grunge',\n",
       "     'punk christmas',\n",
       "     'rock'],\n",
       "    'href': 'https://api.spotify.com/v1/artists/3jOstUTkEu2JkjvRdBA5Gu',\n",
       "    'id': '3jOstUTkEu2JkjvRdBA5Gu',\n",
       "    'images': [{'height': 640,\n",
       "      'url': 'https://i.scdn.co/image/2d9c08427ea2ffd4ae8a16ad5f0c39fd4d91c0be',\n",
       "      'width': 640},\n",
       "     {'height': 320,\n",
       "      'url': 'https://i.scdn.co/image/b70c986dfa12ce723c453c8d33a7204de3fa3eaa',\n",
       "      'width': 320},\n",
       "     {'height': 160,\n",
       "      'url': 'https://i.scdn.co/image/9af7e4b5e07e74381f2b8fec9a6aa231af493442',\n",
       "      'width': 160}],\n",
       "    'name': 'Weezer',\n",
       "    'popularity': 79,\n",
       "    'type': 'artist',\n",
       "    'uri': 'spotify:artist:3jOstUTkEu2JkjvRdBA5Gu'},\n",
       "   {'external_urls': {'spotify': 'https://open.spotify.com/artist/05RQnM4Bm6HlNFkm7D4JCX'},\n",
       "    'followers': {'href': None, 'total': 23},\n",
       "    'genres': [],\n",
       "    'href': 'https://api.spotify.com/v1/artists/05RQnM4Bm6HlNFkm7D4JCX',\n",
       "    'id': '05RQnM4Bm6HlNFkm7D4JCX',\n",
       "    'images': [],\n",
       "    'name': 'Jane Weezer',\n",
       "    'popularity': 11,\n",
       "    'type': 'artist',\n",
       "    'uri': 'spotify:artist:05RQnM4Bm6HlNFkm7D4JCX'},\n",
       "   {'external_urls': {'spotify': 'https://open.spotify.com/artist/3kbBcR5dQomAG95l4nObEc'},\n",
       "    'followers': {'href': None, 'total': 1},\n",
       "    'genres': [],\n",
       "    'href': 'https://api.spotify.com/v1/artists/3kbBcR5dQomAG95l4nObEc',\n",
       "    'id': '3kbBcR5dQomAG95l4nObEc',\n",
       "    'images': [],\n",
       "    'name': 'Weezer Rascal',\n",
       "    'popularity': 0,\n",
       "    'type': 'artist',\n",
       "    'uri': 'spotify:artist:3kbBcR5dQomAG95l4nObEc'},\n",
       "   {'external_urls': {'spotify': 'https://open.spotify.com/artist/1hfveLAYL2FcU3QUcdbua7'},\n",
       "    'followers': {'href': None, 'total': 12},\n",
       "    'genres': [],\n",
       "    'href': 'https://api.spotify.com/v1/artists/1hfveLAYL2FcU3QUcdbua7',\n",
       "    'id': '1hfveLAYL2FcU3QUcdbua7',\n",
       "    'images': [{'height': 640,\n",
       "      'url': 'https://i.scdn.co/image/4ccc4af41320ff02d262f589b83564a01f1756e6',\n",
       "      'width': 640},\n",
       "     {'height': 300,\n",
       "      'url': 'https://i.scdn.co/image/5264a304ec8ee396268ee41c1be8005341cfc60c',\n",
       "      'width': 300},\n",
       "     {'height': 64,\n",
       "      'url': 'https://i.scdn.co/image/496e48879199ad6410791f3bb3f220edb20e79fc',\n",
       "      'width': 64}],\n",
       "    'name': 'Weezer Miles',\n",
       "    'popularity': 0,\n",
       "    'type': 'artist',\n",
       "    'uri': 'spotify:artist:1hfveLAYL2FcU3QUcdbua7'}],\n",
       "  'limit': 10,\n",
       "  'next': None,\n",
       "  'offset': 0,\n",
       "  'previous': None,\n",
       "  'total': 4}}"
      ]
     },
     "execution_count": 8,
     "metadata": {},
     "output_type": "execute_result"
    }
   ],
   "source": [
    "results"
   ]
  },
  {
   "cell_type": "code",
   "execution_count": null,
   "metadata": {
    "collapsed": true
   },
   "outputs": [],
   "source": []
  }
 ],
 "metadata": {
  "kernelspec": {
   "display_name": "Python 3",
   "language": "python",
   "name": "python3"
  },
  "language_info": {
   "codemirror_mode": {
    "name": "ipython",
    "version": 3
   },
   "file_extension": ".py",
   "mimetype": "text/x-python",
   "name": "python",
   "nbconvert_exporter": "python",
   "pygments_lexer": "ipython3",
   "version": "3.6.2"
  }
 },
 "nbformat": 4,
 "nbformat_minor": 2
}
