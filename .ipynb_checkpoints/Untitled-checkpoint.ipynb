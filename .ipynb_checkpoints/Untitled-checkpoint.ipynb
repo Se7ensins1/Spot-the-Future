{
 "cells": [
  {
   "cell_type": "code",
   "execution_count": 1,
   "metadata": {
    "collapsed": true
   },
   "outputs": [],
   "source": [
    "import spotipy\n",
    "import requests\n",
    "from spotipy.oauth2 import SpotifyClientCredentials\n",
    "from datascience import *\n",
    "import numpy as np\n",
    "import csv"
   ]
  },
  {
   "cell_type": "code",
   "execution_count": 2,
   "metadata": {
    "collapsed": true
   },
   "outputs": [],
   "source": [
    "client_id = \"a6baf8a584134ff3b272d789974bffe4\"\n",
    "client_secret = \"0d3cd888a21e488d98dd767079471ea7\"\n",
    "client_credentials_manager = SpotifyClientCredentials(client_id, client_secret)\n",
    "token = client_credentials_manager.get_access_token()"
   ]
  },
  {
   "cell_type": "code",
   "execution_count": 6,
   "metadata": {},
   "outputs": [],
   "source": [
    "d12 = Table().read_table(\"./data/cleandata/top_songs_2012.csv\")\n",
    "d13 = Table().read_table(\"./data/cleandata/top_songs_2013.csv\")\n",
    "d14 = Table().read_table(\"./data/cleandata/top_songs_2014.csv\")\n",
    "d15 = Table().read_table(\"./data/cleandata/top_songs_2015.csv\")\n",
    "d16 = Table().read_table(\"./data/cleandata/top_songs_2016.csv\")"
   ]
  },
  {
   "cell_type": "code",
   "execution_count": 8,
   "metadata": {},
   "outputs": [],
   "source": [
    "d12 = d12.with_column(\"Year\", [2012 for i in range(d12.num_rows)])"
   ]
  },
  {
   "cell_type": "code",
   "execution_count": 9,
   "metadata": {},
   "outputs": [
    {
     "data": {
      "text/html": [
       "<table border=\"1\" class=\"dataframe\">\n",
       "    <thead>\n",
       "        <tr>\n",
       "            <th>song</th> <th>artist</th> <th>id</th> <th>danceability</th> <th>energy</th> <th>key</th> <th>loudness</th> <th>mode</th> <th>speechiness</th> <th>acousticness</th> <th>instrumentalness</th> <th>liveness</th> <th>valence</th> <th>tempo</th> <th>duration_ms</th> <th>time_signature</th> <th>Year</th>\n",
       "        </tr>\n",
       "    </thead>\n",
       "    <tbody>\n",
       "        <tr>\n",
       "            <td>Somebody That I Used to Know    </td> <td>Gotye featuring Kimbra         </td> <td>4wCmqSrbyCgxEXROQE6vtV</td> <td>0.857       </td> <td>0.517 </td> <td>0   </td> <td>-6.972  </td> <td>1   </td> <td>0.0384     </td> <td>0.565       </td> <td>0.000195        </td> <td>0.102   </td> <td>0.754  </td> <td>129.063</td> <td>244973     </td> <td>4             </td> <td>2012</td>\n",
       "        </tr>\n",
       "    </tbody>\n",
       "        <tr>\n",
       "            <td>Call Me Maybe                   </td> <td>Carly Rae Jepsen               </td> <td>3TGRqZ0a2l1LRblBkJoaDx</td> <td>0.778       </td> <td>0.585 </td> <td>7   </td> <td>-6.502  </td> <td>1   </td> <td>0.0435     </td> <td>0.0123      </td> <td>0               </td> <td>0.108   </td> <td>0.626  </td> <td>120.069</td> <td>193400     </td> <td>4             </td> <td>2012</td>\n",
       "        </tr>\n",
       "    </tbody>\n",
       "        <tr>\n",
       "            <td>We Are Young                    </td> <td>Fun featuring Janelle Monáe    </td> <td>7a86XRg84qjasly9f6bPSD</td> <td>0.378       </td> <td>0.638 </td> <td>10  </td> <td>-5.576  </td> <td>1   </td> <td>0.075      </td> <td>0.02        </td> <td>7.66e-05        </td> <td>0.0849  </td> <td>0.735  </td> <td>184.086</td> <td>250627     </td> <td>4             </td> <td>2012</td>\n",
       "        </tr>\n",
       "    </tbody>\n",
       "        <tr>\n",
       "            <td>Payphone                        </td> <td>Maroon 5 featuring Wiz Khalifa </td> <td>1LmN9SSHISbtp9LoaR5ZVJ</td> <td>0.74        </td> <td>0.746 </td> <td>4   </td> <td>-4.696  </td> <td>1   </td> <td>0.0424     </td> <td>0.0198      </td> <td>0               </td> <td>0.363   </td> <td>0.505  </td> <td>110.01 </td> <td>231387     </td> <td>4             </td> <td>2012</td>\n",
       "        </tr>\n",
       "    </tbody>\n",
       "        <tr>\n",
       "            <td>Lights                          </td> <td>Ellie Goulding                 </td> <td>7gUpO6td4OOnu0Lf9vhcIV</td> <td>0.684       </td> <td>0.794 </td> <td>8   </td> <td>-6.08   </td> <td>0   </td> <td>0.0375     </td> <td>0.0344      </td> <td>0.0445          </td> <td>0.111   </td> <td>0.773  </td> <td>120.024</td> <td>211800     </td> <td>4             </td> <td>2012</td>\n",
       "        </tr>\n",
       "    </tbody>\n",
       "        <tr>\n",
       "            <td>Glad You Came                   </td> <td>The Wanted                     </td> <td>3AGOgQzp0YcPH41u9p7dOp</td> <td>0.755       </td> <td>0.838 </td> <td>7   </td> <td>-4.5    </td> <td>0   </td> <td>0.0687     </td> <td>0.0643      </td> <td>1.59e-05        </td> <td>0.118   </td> <td>0.473  </td> <td>126.877</td> <td>198187     </td> <td>4             </td> <td>2012</td>\n",
       "        </tr>\n",
       "    </tbody>\n",
       "        <tr>\n",
       "            <td>Stronger (What Doesn't Kill You)</td> <td>Kelly Clarkson                 </td> <td>6D60klaHqbCl9ySc8VcRss</td> <td>0.562       </td> <td>0.939 </td> <td>0   </td> <td>-4.282  </td> <td>1   </td> <td>0.0475     </td> <td>0.046       </td> <td>0               </td> <td>0.112   </td> <td>0.684  </td> <td>116.044</td> <td>221947     </td> <td>4             </td> <td>2012</td>\n",
       "        </tr>\n",
       "    </tbody>\n",
       "        <tr>\n",
       "            <td>We Found Love                   </td> <td>Rihanna featuring Calvin Harris</td> <td>6qn9YLKt13AGvpq9jfO8py</td> <td>0.737       </td> <td>0.758 </td> <td>1   </td> <td>-4.389  </td> <td>1   </td> <td>0.057      </td> <td>0.0253      </td> <td>0.0019          </td> <td>0.169   </td> <td>0.608  </td> <td>128.007</td> <td>215227     </td> <td>4             </td> <td>2012</td>\n",
       "        </tr>\n",
       "    </tbody>\n",
       "        <tr>\n",
       "            <td>Starships                       </td> <td>Nicki Minaj                    </td> <td>59RSrxkSKSixEWBAIvE5Wa</td> <td>0.748       </td> <td>0.727 </td> <td>11  </td> <td>-2.42   </td> <td>0   </td> <td>0.0871     </td> <td>0.167       </td> <td>0               </td> <td>0.166   </td> <td>0.69   </td> <td>125.014</td> <td>210627     </td> <td>4             </td> <td>2012</td>\n",
       "        </tr>\n",
       "    </tbody>\n",
       "        <tr>\n",
       "            <td>What Makes You Beautiful        </td> <td>One Direction                  </td> <td>3SPDQfj2UfWq6A2NllZnzn</td> <td>0.729       </td> <td>0.771 </td> <td>4   </td> <td>-2.451  </td> <td>1   </td> <td>0.0725     </td> <td>0.00761     </td> <td>0               </td> <td>0.087   </td> <td>0.873  </td> <td>125.011</td> <td>198053     </td> <td>4             </td> <td>2012</td>\n",
       "        </tr>\n",
       "    </tbody>\n",
       "</table>\n",
       "<p>... (90 rows omitted)</p"
      ],
      "text/plain": [
       "song                             | artist                          | id                     | danceability | energy | key  | loudness | mode | speechiness | acousticness | instrumentalness | liveness | valence | tempo   | duration_ms | time_signature | Year\n",
       "Somebody That I Used to Know     | Gotye featuring Kimbra          | 4wCmqSrbyCgxEXROQE6vtV | 0.857        | 0.517  | 0    | -6.972   | 1    | 0.0384      | 0.565        | 0.000195         | 0.102    | 0.754   | 129.063 | 244973      | 4              | 2012\n",
       "Call Me Maybe                    | Carly Rae Jepsen                | 3TGRqZ0a2l1LRblBkJoaDx | 0.778        | 0.585  | 7    | -6.502   | 1    | 0.0435      | 0.0123       | 0                | 0.108    | 0.626   | 120.069 | 193400      | 4              | 2012\n",
       "We Are Young                     | Fun featuring Janelle Monáe     | 7a86XRg84qjasly9f6bPSD | 0.378        | 0.638  | 10   | -5.576   | 1    | 0.075       | 0.02         | 7.66e-05         | 0.0849   | 0.735   | 184.086 | 250627      | 4              | 2012\n",
       "Payphone                         | Maroon 5 featuring Wiz Khalifa  | 1LmN9SSHISbtp9LoaR5ZVJ | 0.74         | 0.746  | 4    | -4.696   | 1    | 0.0424      | 0.0198       | 0                | 0.363    | 0.505   | 110.01  | 231387      | 4              | 2012\n",
       "Lights                           | Ellie Goulding                  | 7gUpO6td4OOnu0Lf9vhcIV | 0.684        | 0.794  | 8    | -6.08    | 0    | 0.0375      | 0.0344       | 0.0445           | 0.111    | 0.773   | 120.024 | 211800      | 4              | 2012\n",
       "Glad You Came                    | The Wanted                      | 3AGOgQzp0YcPH41u9p7dOp | 0.755        | 0.838  | 7    | -4.5     | 0    | 0.0687      | 0.0643       | 1.59e-05         | 0.118    | 0.473   | 126.877 | 198187      | 4              | 2012\n",
       "Stronger (What Doesn't Kill You) | Kelly Clarkson                  | 6D60klaHqbCl9ySc8VcRss | 0.562        | 0.939  | 0    | -4.282   | 1    | 0.0475      | 0.046        | 0                | 0.112    | 0.684   | 116.044 | 221947      | 4              | 2012\n",
       "We Found Love                    | Rihanna featuring Calvin Harris | 6qn9YLKt13AGvpq9jfO8py | 0.737        | 0.758  | 1    | -4.389   | 1    | 0.057       | 0.0253       | 0.0019           | 0.169    | 0.608   | 128.007 | 215227      | 4              | 2012\n",
       "Starships                        | Nicki Minaj                     | 59RSrxkSKSixEWBAIvE5Wa | 0.748        | 0.727  | 11   | -2.42    | 0    | 0.0871      | 0.167        | 0                | 0.166    | 0.69    | 125.014 | 210627      | 4              | 2012\n",
       "What Makes You Beautiful         | One Direction                   | 3SPDQfj2UfWq6A2NllZnzn | 0.729        | 0.771  | 4    | -2.451   | 1    | 0.0725      | 0.00761      | 0                | 0.087    | 0.873   | 125.011 | 198053      | 4              | 2012\n",
       "... (90 rows omitted)"
      ]
     },
     "execution_count": 9,
     "metadata": {},
     "output_type": "execute_result"
    }
   ],
   "source": [
    "d12"
   ]
  },
  {
   "cell_type": "markdown",
   "metadata": {},
   "source": [
    "danceability, energy, mode, speechiness, acousticness, "
   ]
  },
  {
   "cell_type": "code",
   "execution_count": null,
   "metadata": {
    "collapsed": true
   },
   "outputs": [],
   "source": [
    "def attribute(year):\n",
    "    d = Table().read_table(\"./data/cleandata/top_songs_\" + str(year) \".csv\")"
   ]
  }
 ],
 "metadata": {
  "kernelspec": {
   "display_name": "Python 3",
   "language": "python",
   "name": "python3"
  },
  "language_info": {
   "codemirror_mode": {
    "name": "ipython",
    "version": 3
   },
   "file_extension": ".py",
   "mimetype": "text/x-python",
   "name": "python",
   "nbconvert_exporter": "python",
   "pygments_lexer": "ipython3",
   "version": "3.6.2"
  }
 },
 "nbformat": 4,
 "nbformat_minor": 2
}
