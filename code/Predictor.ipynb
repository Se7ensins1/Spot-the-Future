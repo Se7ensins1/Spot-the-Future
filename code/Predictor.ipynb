{
 "cells": [
  {
   "cell_type": "markdown",
   "metadata": {},
   "source": [
    "# Predictor"
   ]
  },
  {
   "cell_type": "markdown",
   "metadata": {},
   "source": [
    "This notebook shows how we created a predictor model that, given a csv file with data on the top 100 songs from previous years, will predict the song from 2017 most likely to be the next most popular song. In addition, this notebook shows how we created a barplot that compares the features of the predicted song with the average features of the chosen year."
   ]
  },
  {
   "cell_type": "markdown",
   "metadata": {},
   "source": [
    "Install the datascience library, and import it along with the numpy and csv libraries. Import the warnings library, to ignore unnecessary warnings that pop up when plotting, and the matplotlib library to make those plots."
   ]
  },
  {
   "cell_type": "code",
   "execution_count": 2,
   "metadata": {},
   "outputs": [],
   "source": [
    "! pip install datascience\n",
    "\n",
    "from datascience import *\n",
    "import numpy as np\n",
    "import csv\n",
    "\n",
    "import warnings\n",
    "warnings.simplefilter(\"ignore\", FutureWarning)\n",
    "\n",
    "%matplotlib inline\n",
    "import matplotlib.pyplot as plots\n",
    "plots.style.use('fivethirtyeight')"
   ]
  },
  {
   "cell_type": "markdown",
   "metadata": {},
   "source": [
    "Read in the csv file that contains data of songs and their features into a table."
   ]
  },
  {
   "cell_type": "code",
   "execution_count": 3,
   "metadata": {},
   "outputs": [
    {
     "data": {
      "text/html": [
       "<table border=\"1\" class=\"dataframe\">\n",
       "    <thead>\n",
       "        <tr>\n",
       "            <th>song</th> <th>artist</th> <th>id</th> <th>danceability</th> <th>energy</th> <th>key</th> <th>loudness</th> <th>mode</th> <th>speechiness</th> <th>acousticness</th> <th>instrumentalness</th> <th>liveness</th> <th>valence</th> <th>tempo</th> <th>duration_ms</th> <th>time_signature</th>\n",
       "        </tr>\n",
       "    </thead>\n",
       "    <tbody>\n",
       "        <tr>\n",
       "            <td>How Far I'll Go      </td> <td>Auli'i Cravalho                </td> <td>6mb6lVLNrcUgLnEN8QnDJd</td> <td>0.576       </td> <td>0.319 </td> <td>4   </td> <td>-10.934 </td> <td>1   </td> <td>0.0518     </td> <td>0.603       </td> <td>0               </td> <td>0.173   </td> <td>0.0921 </td> <td>83.632 </td> <td>163387     </td> <td>4             </td>\n",
       "        </tr>\n",
       "    </tbody>\n",
       "        <tr>\n",
       "            <td>Black SpiderMan      </td> <td>Logic feat. Damian Lemar Hudson</td> <td>7BKUWh5sdtdS17crohRe4L</td> <td>0.617       </td> <td>0.869 </td> <td>1   </td> <td>-5.293  </td> <td>1   </td> <td>0.101      </td> <td>0.132       </td> <td>7.38e-05        </td> <td>0.441   </td> <td>0.331  </td> <td>139.994</td> <td>331267     </td> <td>4             </td>\n",
       "        </tr>\n",
       "    </tbody>\n",
       "        <tr>\n",
       "            <td>You're Still My Sugar</td> <td>Maddie Ross                    </td> <td>4xHvcF6L3F4rtdyFKEkr4X</td> <td>0.705       </td> <td>0.806 </td> <td>8   </td> <td>-4.904  </td> <td>0   </td> <td>0.052      </td> <td>0.0197      </td> <td>0.00107         </td> <td>0.0907  </td> <td>0.565  </td> <td>119.982</td> <td>214012     </td> <td>4             </td>\n",
       "        </tr>\n",
       "    </tbody>\n",
       "        <tr>\n",
       "            <td>Second One to Know   </td> <td>Chris Stapleton                </td> <td>0oTGa77jJ1H5joTG5SvxFj</td> <td>0.527       </td> <td>0.893 </td> <td>0   </td> <td>-6.061  </td> <td>0   </td> <td>0.0396     </td> <td>0.0244      </td> <td>0.000753        </td> <td>0.343   </td> <td>0.892  </td> <td>96.73  </td> <td>176067     </td> <td>4             </td>\n",
       "        </tr>\n",
       "    </tbody>\n",
       "        <tr>\n",
       "            <td>Love                 </td> <td>Lana Del Rey                   </td> <td>2Kerz9H9IejzeIpjhDJoYG</td> <td>0.32        </td> <td>0.376 </td> <td>10  </td> <td>-10.885 </td> <td>1   </td> <td>0.033      </td> <td>0.451       </td> <td>0.00198         </td> <td>0.11    </td> <td>0.225  </td> <td>98.132 </td> <td>272743     </td> <td>4             </td>\n",
       "        </tr>\n",
       "    </tbody>\n",
       "        <tr>\n",
       "            <td>Ella                 </td> <td>Ricardo Arjona                 </td> <td>7hydwXc3IVJIItIif6ZuLH</td> <td>0.335       </td> <td>0.763 </td> <td>9   </td> <td>-3.853  </td> <td>1   </td> <td>0.0562     </td> <td>0.0307      </td> <td>0.000106        </td> <td>0.0758  </td> <td>0.403  </td> <td>199.225</td> <td>198040     </td> <td>4             </td>\n",
       "        </tr>\n",
       "    </tbody>\n",
       "        <tr>\n",
       "            <td>iSpy                 </td> <td>Kyle feat. Lil Yachty          </td> <td>2EEeOnHehOozLq4aS0n6SL</td> <td>0.746       </td> <td>0.653 </td> <td>7   </td> <td>-6.745  </td> <td>1   </td> <td>0.289      </td> <td>0.378       </td> <td>0               </td> <td>0.229   </td> <td>0.672  </td> <td>75.016 </td> <td>253107     </td> <td>4             </td>\n",
       "        </tr>\n",
       "    </tbody>\n",
       "        <tr>\n",
       "            <td>Most Girls           </td> <td>Hailee Steinfeld               </td> <td>10GJQkjRJcZhGTLagFOC62</td> <td>0.76        </td> <td>0.588 </td> <td>9   </td> <td>-7.082  </td> <td>1   </td> <td>0.0775     </td> <td>0.0485      </td> <td>0               </td> <td>0.0847  </td> <td>0.384  </td> <td>102.974</td> <td>204400     </td> <td>4             </td>\n",
       "        </tr>\n",
       "    </tbody>\n",
       "        <tr>\n",
       "            <td>Down                 </td> <td>Marian Hill                    </td> <td>5eCkuGPZNl4mISFNPgr3Dd</td> <td>0.597       </td> <td>0.357 </td> <td>3   </td> <td>-14.718 </td> <td>1   </td> <td>0.259      </td> <td>0.644       </td> <td>0.00393         </td> <td>0.125   </td> <td>0.059  </td> <td>84.864 </td> <td>197773     </td> <td>4             </td>\n",
       "        </tr>\n",
       "    </tbody>\n",
       "        <tr>\n",
       "            <td>Don't Kill My Vibe   </td> <td>Sigrid                         </td> <td>2IOViM71uj8xksoqLb8TCm</td> <td>0.544       </td> <td>0.755 </td> <td>10  </td> <td>-4.864  </td> <td>1   </td> <td>0.106      </td> <td>0.248       </td> <td>0.000156        </td> <td>0.244   </td> <td>0.289  </td> <td>150.013</td> <td>184320     </td> <td>4             </td>\n",
       "        </tr>\n",
       "    </tbody>\n",
       "</table>\n",
       "<p>... (40 rows omitted)</p"
      ],
      "text/plain": [
       "song                  | artist                          | id                     | danceability | energy | key  | loudness | mode | speechiness | acousticness | instrumentalness | liveness | valence | tempo   | duration_ms | time_signature\n",
       "How Far I'll Go       | Auli'i Cravalho                 | 6mb6lVLNrcUgLnEN8QnDJd | 0.576        | 0.319  | 4    | -10.934  | 1    | 0.0518      | 0.603        | 0                | 0.173    | 0.0921  | 83.632  | 163387      | 4\n",
       "Black SpiderMan       | Logic feat. Damian Lemar Hudson | 7BKUWh5sdtdS17crohRe4L | 0.617        | 0.869  | 1    | -5.293   | 1    | 0.101       | 0.132        | 7.38e-05         | 0.441    | 0.331   | 139.994 | 331267      | 4\n",
       "You're Still My Sugar | Maddie Ross                     | 4xHvcF6L3F4rtdyFKEkr4X | 0.705        | 0.806  | 8    | -4.904   | 0    | 0.052       | 0.0197       | 0.00107          | 0.0907   | 0.565   | 119.982 | 214012      | 4\n",
       "Second One to Know    | Chris Stapleton                 | 0oTGa77jJ1H5joTG5SvxFj | 0.527        | 0.893  | 0    | -6.061   | 0    | 0.0396      | 0.0244       | 0.000753         | 0.343    | 0.892   | 96.73   | 176067      | 4\n",
       "Love                  | Lana Del Rey                    | 2Kerz9H9IejzeIpjhDJoYG | 0.32         | 0.376  | 10   | -10.885  | 1    | 0.033       | 0.451        | 0.00198          | 0.11     | 0.225   | 98.132  | 272743      | 4\n",
       "Ella                  | Ricardo Arjona                  | 7hydwXc3IVJIItIif6ZuLH | 0.335        | 0.763  | 9    | -3.853   | 1    | 0.0562      | 0.0307       | 0.000106         | 0.0758   | 0.403   | 199.225 | 198040      | 4\n",
       "iSpy                  | Kyle feat. Lil Yachty           | 2EEeOnHehOozLq4aS0n6SL | 0.746        | 0.653  | 7    | -6.745   | 1    | 0.289       | 0.378        | 0                | 0.229    | 0.672   | 75.016  | 253107      | 4\n",
       "Most Girls            | Hailee Steinfeld                | 10GJQkjRJcZhGTLagFOC62 | 0.76         | 0.588  | 9    | -7.082   | 1    | 0.0775      | 0.0485       | 0                | 0.0847   | 0.384   | 102.974 | 204400      | 4\n",
       "Down                  | Marian Hill                     | 5eCkuGPZNl4mISFNPgr3Dd | 0.597        | 0.357  | 3    | -14.718  | 1    | 0.259       | 0.644        | 0.00393          | 0.125    | 0.059   | 84.864  | 197773      | 4\n",
       "Don't Kill My Vibe    | Sigrid                          | 2IOViM71uj8xksoqLb8TCm | 0.544        | 0.755  | 10   | -4.864   | 1    | 0.106       | 0.248        | 0.000156         | 0.244    | 0.289   | 150.013 | 184320      | 4\n",
       "... (40 rows omitted)"
      ]
     },
     "execution_count": 3,
     "metadata": {},
     "output_type": "execute_result"
    }
   ],
   "source": [
    "data_2017 = Table.read_table(\"top_songs_2017.csv\")\n",
    "data_2017"
   ]
  },
  {
   "cell_type": "markdown",
   "metadata": {},
   "source": [
    "The data currently has features that range in scale. For instance, danceability ranges from 0 to 1, while loudness ranges from -60 to 0. If the features were plotted, some would carry more weight than others. To fix this problem, create a `rescale()` function that takes in a table and rescales the columns depending on the feature, such that the highest value in each column is 1. Key will need to be divided by 100, tempo will need to be divided by 1000, and so forth."
   ]
  },
  {
   "cell_type": "code",
   "execution_count": 4,
   "metadata": {},
   "outputs": [
    {
     "data": {
      "text/html": [
       "<table border=\"1\" class=\"dataframe\">\n",
       "    <thead>\n",
       "        <tr>\n",
       "            <th>song</th> <th>artist</th> <th>id</th> <th>danceability</th> <th>energy</th> <th>speechiness</th> <th>acousticness</th> <th>instrumentalness</th> <th>liveness</th> <th>valence</th> <th>rescaled_key</th> <th>rescaled_loudness</th> <th>rescaled_mode</th> <th>rescaled_tempo</th> <th>rescaled_duration_ms</th> <th>rescaled_time_signature</th>\n",
       "        </tr>\n",
       "    </thead>\n",
       "    <tbody>\n",
       "        <tr>\n",
       "            <td>How Far I'll Go      </td> <td>Auli'i Cravalho                </td> <td>6mb6lVLNrcUgLnEN8QnDJd</td> <td>0.576       </td> <td>0.319 </td> <td>0.0518     </td> <td>0.603       </td> <td>0               </td> <td>0.173   </td> <td>0.0921 </td> <td>0.04        </td> <td>-0.10934         </td> <td>0.1          </td> <td>0.083632      </td> <td>0.163387            </td> <td>0.4                    </td>\n",
       "        </tr>\n",
       "    </tbody>\n",
       "        <tr>\n",
       "            <td>Black SpiderMan      </td> <td>Logic feat. Damian Lemar Hudson</td> <td>7BKUWh5sdtdS17crohRe4L</td> <td>0.617       </td> <td>0.869 </td> <td>0.101      </td> <td>0.132       </td> <td>7.38e-05        </td> <td>0.441   </td> <td>0.331  </td> <td>0.01        </td> <td>-0.05293         </td> <td>0.1          </td> <td>0.139994      </td> <td>0.331267            </td> <td>0.4                    </td>\n",
       "        </tr>\n",
       "    </tbody>\n",
       "        <tr>\n",
       "            <td>You're Still My Sugar</td> <td>Maddie Ross                    </td> <td>4xHvcF6L3F4rtdyFKEkr4X</td> <td>0.705       </td> <td>0.806 </td> <td>0.052      </td> <td>0.0197      </td> <td>0.00107         </td> <td>0.0907  </td> <td>0.565  </td> <td>0.08        </td> <td>-0.04904         </td> <td>0            </td> <td>0.119982      </td> <td>0.214012            </td> <td>0.4                    </td>\n",
       "        </tr>\n",
       "    </tbody>\n",
       "        <tr>\n",
       "            <td>Second One to Know   </td> <td>Chris Stapleton                </td> <td>0oTGa77jJ1H5joTG5SvxFj</td> <td>0.527       </td> <td>0.893 </td> <td>0.0396     </td> <td>0.0244      </td> <td>0.000753        </td> <td>0.343   </td> <td>0.892  </td> <td>0           </td> <td>-0.06061         </td> <td>0            </td> <td>0.09673       </td> <td>0.176067            </td> <td>0.4                    </td>\n",
       "        </tr>\n",
       "    </tbody>\n",
       "        <tr>\n",
       "            <td>Love                 </td> <td>Lana Del Rey                   </td> <td>2Kerz9H9IejzeIpjhDJoYG</td> <td>0.32        </td> <td>0.376 </td> <td>0.033      </td> <td>0.451       </td> <td>0.00198         </td> <td>0.11    </td> <td>0.225  </td> <td>0.1         </td> <td>-0.10885         </td> <td>0.1          </td> <td>0.098132      </td> <td>0.272743            </td> <td>0.4                    </td>\n",
       "        </tr>\n",
       "    </tbody>\n",
       "        <tr>\n",
       "            <td>Ella                 </td> <td>Ricardo Arjona                 </td> <td>7hydwXc3IVJIItIif6ZuLH</td> <td>0.335       </td> <td>0.763 </td> <td>0.0562     </td> <td>0.0307      </td> <td>0.000106        </td> <td>0.0758  </td> <td>0.403  </td> <td>0.09        </td> <td>-0.03853         </td> <td>0.1          </td> <td>0.199225      </td> <td>0.19804             </td> <td>0.4                    </td>\n",
       "        </tr>\n",
       "    </tbody>\n",
       "        <tr>\n",
       "            <td>iSpy                 </td> <td>Kyle feat. Lil Yachty          </td> <td>2EEeOnHehOozLq4aS0n6SL</td> <td>0.746       </td> <td>0.653 </td> <td>0.289      </td> <td>0.378       </td> <td>0               </td> <td>0.229   </td> <td>0.672  </td> <td>0.07        </td> <td>-0.06745         </td> <td>0.1          </td> <td>0.075016      </td> <td>0.253107            </td> <td>0.4                    </td>\n",
       "        </tr>\n",
       "    </tbody>\n",
       "        <tr>\n",
       "            <td>Most Girls           </td> <td>Hailee Steinfeld               </td> <td>10GJQkjRJcZhGTLagFOC62</td> <td>0.76        </td> <td>0.588 </td> <td>0.0775     </td> <td>0.0485      </td> <td>0               </td> <td>0.0847  </td> <td>0.384  </td> <td>0.09        </td> <td>-0.07082         </td> <td>0.1          </td> <td>0.102974      </td> <td>0.2044              </td> <td>0.4                    </td>\n",
       "        </tr>\n",
       "    </tbody>\n",
       "        <tr>\n",
       "            <td>Down                 </td> <td>Marian Hill                    </td> <td>5eCkuGPZNl4mISFNPgr3Dd</td> <td>0.597       </td> <td>0.357 </td> <td>0.259      </td> <td>0.644       </td> <td>0.00393         </td> <td>0.125   </td> <td>0.059  </td> <td>0.03        </td> <td>-0.14718         </td> <td>0.1          </td> <td>0.084864      </td> <td>0.197773            </td> <td>0.4                    </td>\n",
       "        </tr>\n",
       "    </tbody>\n",
       "        <tr>\n",
       "            <td>Don't Kill My Vibe   </td> <td>Sigrid                         </td> <td>2IOViM71uj8xksoqLb8TCm</td> <td>0.544       </td> <td>0.755 </td> <td>0.106      </td> <td>0.248       </td> <td>0.000156        </td> <td>0.244   </td> <td>0.289  </td> <td>0.1         </td> <td>-0.04864         </td> <td>0.1          </td> <td>0.150013      </td> <td>0.18432             </td> <td>0.4                    </td>\n",
       "        </tr>\n",
       "    </tbody>\n",
       "</table>\n",
       "<p>... (40 rows omitted)</p"
      ],
      "text/plain": [
       "song                  | artist                          | id                     | danceability | energy | speechiness | acousticness | instrumentalness | liveness | valence | rescaled_key | rescaled_loudness | rescaled_mode | rescaled_tempo | rescaled_duration_ms | rescaled_time_signature\n",
       "How Far I'll Go       | Auli'i Cravalho                 | 6mb6lVLNrcUgLnEN8QnDJd | 0.576        | 0.319  | 0.0518      | 0.603        | 0                | 0.173    | 0.0921  | 0.04         | -0.10934          | 0.1           | 0.083632       | 0.163387             | 0.4\n",
       "Black SpiderMan       | Logic feat. Damian Lemar Hudson | 7BKUWh5sdtdS17crohRe4L | 0.617        | 0.869  | 0.101       | 0.132        | 7.38e-05         | 0.441    | 0.331   | 0.01         | -0.05293          | 0.1           | 0.139994       | 0.331267             | 0.4\n",
       "You're Still My Sugar | Maddie Ross                     | 4xHvcF6L3F4rtdyFKEkr4X | 0.705        | 0.806  | 0.052       | 0.0197       | 0.00107          | 0.0907   | 0.565   | 0.08         | -0.04904          | 0             | 0.119982       | 0.214012             | 0.4\n",
       "Second One to Know    | Chris Stapleton                 | 0oTGa77jJ1H5joTG5SvxFj | 0.527        | 0.893  | 0.0396      | 0.0244       | 0.000753         | 0.343    | 0.892   | 0            | -0.06061          | 0             | 0.09673        | 0.176067             | 0.4\n",
       "Love                  | Lana Del Rey                    | 2Kerz9H9IejzeIpjhDJoYG | 0.32         | 0.376  | 0.033       | 0.451        | 0.00198          | 0.11     | 0.225   | 0.1          | -0.10885          | 0.1           | 0.098132       | 0.272743             | 0.4\n",
       "Ella                  | Ricardo Arjona                  | 7hydwXc3IVJIItIif6ZuLH | 0.335        | 0.763  | 0.0562      | 0.0307       | 0.000106         | 0.0758   | 0.403   | 0.09         | -0.03853          | 0.1           | 0.199225       | 0.19804              | 0.4\n",
       "iSpy                  | Kyle feat. Lil Yachty           | 2EEeOnHehOozLq4aS0n6SL | 0.746        | 0.653  | 0.289       | 0.378        | 0                | 0.229    | 0.672   | 0.07         | -0.06745          | 0.1           | 0.075016       | 0.253107             | 0.4\n",
       "Most Girls            | Hailee Steinfeld                | 10GJQkjRJcZhGTLagFOC62 | 0.76         | 0.588  | 0.0775      | 0.0485       | 0                | 0.0847   | 0.384   | 0.09         | -0.07082          | 0.1           | 0.102974       | 0.2044               | 0.4\n",
       "Down                  | Marian Hill                     | 5eCkuGPZNl4mISFNPgr3Dd | 0.597        | 0.357  | 0.259       | 0.644        | 0.00393          | 0.125    | 0.059   | 0.03         | -0.14718          | 0.1           | 0.084864       | 0.197773             | 0.4\n",
       "Don't Kill My Vibe    | Sigrid                          | 2IOViM71uj8xksoqLb8TCm | 0.544        | 0.755  | 0.106       | 0.248        | 0.000156         | 0.244    | 0.289   | 0.1          | -0.04864          | 0.1           | 0.150013       | 0.18432              | 0.4\n",
       "... (40 rows omitted)"
      ]
     },
     "execution_count": 4,
     "metadata": {},
     "output_type": "execute_result"
    }
   ],
   "source": [
    "def rescale(table):\n",
    "    table = table.with_columns(\n",
    "        \"rescaled_key\", table.column(\"key\") / 100,\n",
    "        \"rescaled_loudness\", table.column(\"loudness\") / 100,\n",
    "        \"rescaled_mode\", table.column(\"mode\") / 10,\n",
    "        \"rescaled_tempo\", table.column(\"tempo\") / 1000,\n",
    "        \"rescaled_duration_ms\", table.column(\"duration_ms\") / 1000000,\n",
    "        \"rescaled_time_signature\", table.column(\"time_signature\") / 10\n",
    "    ).drop(\"key\", \"loudness\", \"mode\", \"tempo\", \"duration_ms\", \"time_signature\")\n",
    "    return table\n",
    "\n",
    "rescale(data_2017)"
   ]
  },
  {
   "cell_type": "markdown",
   "metadata": {},
   "source": [
    "After rescaling, create a `find_averages()` function that will go through each column in the table, starting with the first feature, and take the column's average. It should return an array that contains the averages for each feature in order. Be sure to use `rescale()` to properly format the data."
   ]
  },
  {
   "cell_type": "code",
   "execution_count": 5,
   "metadata": {},
   "outputs": [
    {
     "data": {
      "text/plain": [
       "array([ 0.66189   ,  0.628465  ,  0.119507  ,  0.180886  ,  0.00438409,\n",
       "        0.176729  ,  0.451382  ,  0.0597    , -0.0642864 ,  0.05      ,\n",
       "        0.12055346,  0.22105077,  0.397     ])"
      ]
     },
     "execution_count": 5,
     "metadata": {},
     "output_type": "execute_result"
    }
   ],
   "source": [
    "def find_averages(csv):\n",
    "    table = Table.read_table(csv)\n",
    "    table = table.drop(0, 1, 2)\n",
    "    table = rescale(table)\n",
    "    averages = []\n",
    "    for i in np.arange(0, table.num_columns):\n",
    "        averages = np.append(averages, np.nanmean(table.column(i)))\n",
    "    return averages\n",
    "\n",
    "find_averages(\"top_songs_2016.csv\")"
   ]
  },
  {
   "cell_type": "markdown",
   "metadata": {},
   "source": [
    "Then, create a `find_difference()` function that, given a song and an array of averages to compare with, will find the difference between the song's features and the averages array. For each of the song's features, it should take the absolute difference between that feature and that feature's average in the averages array, and then sum up the total differences."
   ]
  },
  {
   "cell_type": "code",
   "execution_count": 6,
   "metadata": {},
   "outputs": [
    {
     "data": {
      "text/plain": [
       "1.4649099200000002"
      ]
     },
     "execution_count": 6,
     "metadata": {},
     "output_type": "execute_result"
    }
   ],
   "source": [
    "def find_difference(song, averages):\n",
    "    song = song.drop(0, 1, 2)\n",
    "    song = rescale(song)\n",
    "    features = []\n",
    "    for i in np.arange(0, song.num_columns):\n",
    "        features = np.append(features, song.column(i))\n",
    "    difference = sum(abs(features - averages))\n",
    "    return difference\n",
    "\n",
    "# data_2017.take(0) is \"How Far I'll Go\"\n",
    "find_difference(data_2017.take(0), find_averages(\"top_songs_2016.csv\"))"
   ]
  },
  {
   "cell_type": "markdown",
   "metadata": {},
   "source": [
    "Now that we have all the necessary functions, we can create `predictor()` which will take in the table of 2017 songs and a csv file of a year to compare it to. Use `find_averages()` on the inputted csv to obtain the array of averages that we will compare with. Using a for loop, go through each song in the table and use `find_difference()` to find the total difference between that song and the averages, and save these differences in a list. Then, add a differences column to the table with the calculated differences. Find the minimum difference, and return the table with the song that has the minimum difference. This song is the predicted most popular song, as it is the least different from the comparison dataset."
   ]
  },
  {
   "cell_type": "code",
   "execution_count": 10,
   "metadata": {},
   "outputs": [
    {
     "data": {
      "text/html": [
       "<table border=\"1\" class=\"dataframe\">\n",
       "    <thead>\n",
       "        <tr>\n",
       "            <th>song</th> <th>artist</th> <th>id</th> <th>danceability</th> <th>energy</th> <th>key</th> <th>loudness</th> <th>mode</th> <th>speechiness</th> <th>acousticness</th> <th>instrumentalness</th> <th>liveness</th> <th>valence</th> <th>tempo</th> <th>duration_ms</th> <th>time_signature</th> <th>difference</th>\n",
       "        </tr>\n",
       "    </thead>\n",
       "    <tbody>\n",
       "        <tr>\n",
       "            <td>Stay</td> <td>Zedd & Alessia Cara</td> <td>6uBhi9gBXWjanegOb2Phh0</td> <td>0.457       </td> <td>0.627 </td> <td>5   </td> <td>-5.091  </td> <td>0   </td> <td>0.111      </td> <td>0.238       </td> <td>0               </td> <td>0.116   </td> <td>0.554  </td> <td>101.384</td> <td>210091     </td> <td>4             </td> <td>0.545913  </td>\n",
       "        </tr>\n",
       "    </tbody>\n",
       "</table>"
      ],
      "text/plain": [
       "song | artist              | id                     | danceability | energy | key  | loudness | mode | speechiness | acousticness | instrumentalness | liveness | valence | tempo   | duration_ms | time_signature | difference\n",
       "Stay | Zedd & Alessia Cara | 6uBhi9gBXWjanegOb2Phh0 | 0.457        | 0.627  | 5    | -5.091   | 0    | 0.111       | 0.238        | 0                | 0.116    | 0.554   | 101.384 | 210091      | 4              | 0.545913"
      ]
     },
     "execution_count": 10,
     "metadata": {},
     "output_type": "execute_result"
    }
   ],
   "source": [
    "def predictor(table, csv):\n",
    "    averages = find_averages(csv)\n",
    "    differences = []\n",
    "    for i in np.arange(0, table.num_rows):\n",
    "        differences = np.append(differences, find_difference(table.item(i), averages))\n",
    "    table = table.with_column(\"difference\", differences)\n",
    "    min_difference = min(table.column(\"difference\"))\n",
    "    return table.where(\"difference\", are.equal_to(min_difference))\n",
    "\n",
    "# csv files are \"top_songs_2012.csv\", \"top_songs_2013.csv\", \"top_songs_2014.csv\", \"top_songs_2015.csv\", \"top_songs_2016.csv\"\n",
    "predictor(data_2017, \"top_songs_2016.csv\")"
   ]
  },
  {
   "cell_type": "markdown",
   "metadata": {},
   "source": [
    "Now that we have our `predictor()` function, we can plot the predicted song's features along with the comparison dataset's average features. Create `plot_comparison()` that will take in the 2017 table and the comparison csv file. It should use `predictor()` to obtain the predicted song. Save the song title, and save the year from the csv filename. Drop the non-numeric columns from the song table and rescale it with `rescale()`. Find the averages of the csv file with `find_averages()`. Create a new table to be plotted, and with a for loop, add a column to the plot table for each feature in the song table. Each column in the plot table should contain an array of the song feature value and the average feature value. In the end, the plot table should have columns for each feature, and it should have two rows, the first being a row of the song features, and the second being a row of the average features. With this table, add a \"comparison\" column with an array of the song title and the comparison year. Plot this table with `barh()` by the comparison column, such that the song and year are the categories, and their features are plotted as bars."
   ]
  },
  {
   "cell_type": "code",
   "execution_count": 13,
   "metadata": {},
   "outputs": [
    {
     "data": {
      "image/png": "[encoded data removed]",
      "text/plain": [
       "<matplotlib.figure.Figure at 0x7f463a351e10>"
      ]
     },
     "metadata": {},
     "output_type": "display_data"
    }
   ],
   "source": [
    "def plot_comparison(table, csv):\n",
    "    song = predictor(table, csv)\n",
    "    title = song.column(\"song\").item(0)\n",
    "    year = csv[10:14]\n",
    "    song = rescale(song.drop(\"song\", \"artist\", \"id\", \"difference\"))\n",
    "    avg = find_averages(csv)\n",
    "    table_plot = Table()\n",
    "    for i in np.arange(0, song.num_columns):\n",
    "        table_plot = table_plot.with_columns(\n",
    "            song.labels[i], make_array(song.column(i).item(0), avg[i])\n",
    "        )\n",
    "    table_plot = table_plot.with_column(\"comparison\", make_array(title, year))\n",
    "    return table_plot.barh(\"comparison\")\n",
    "\n",
    "plot_comparison(data_2017, \"top_songs_2016.csv\")"
   ]
  }
 ],
 "metadata": {
  "kernelspec": {
   "display_name": "Python 3",
   "language": "python",
   "name": "python3"
  },
  "language_info": {
   "codemirror_mode": {
    "name": "ipython",
    "version": 3
   },
   "file_extension": ".py",
   "mimetype": "text/x-python",
   "name": "python",
   "nbconvert_exporter": "python",
   "pygments_lexer": "ipython3",
   "version": "3.6.1"
  }
 },
 "nbformat": 4,
 "nbformat_minor": 2
}
