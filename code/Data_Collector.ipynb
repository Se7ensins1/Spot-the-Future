{
 "cells": [
  {
   "cell_type": "code",
   "execution_count": 2,
   "metadata": {
    "scrolled": true
   },
   "outputs": [
    {
     "name": "stdout",
     "output_type": "stream",
     "text": [
      "Requirement already satisfied: spotipy in /anaconda3/lib/python3.6/site-packages\n",
      "Requirement already satisfied: requests>=1.0 in /anaconda3/lib/python3.6/site-packages (from spotipy)\n",
      "Requirement already satisfied: chardet<3.1.0,>=3.0.2 in /anaconda3/lib/python3.6/site-packages (from requests>=1.0->spotipy)\n",
      "Requirement already satisfied: idna<2.7,>=2.5 in /anaconda3/lib/python3.6/site-packages (from requests>=1.0->spotipy)\n",
      "Requirement already satisfied: urllib3<1.23,>=1.21.1 in /anaconda3/lib/python3.6/site-packages (from requests>=1.0->spotipy)\n",
      "Requirement already satisfied: certifi>=2017.4.17 in /anaconda3/lib/python3.6/site-packages (from requests>=1.0->spotipy)\n",
      "Requirement already satisfied: requests in /anaconda3/lib/python3.6/site-packages\n",
      "Requirement already satisfied: chardet<3.1.0,>=3.0.2 in /anaconda3/lib/python3.6/site-packages (from requests)\n",
      "Requirement already satisfied: idna<2.7,>=2.5 in /anaconda3/lib/python3.6/site-packages (from requests)\n",
      "Requirement already satisfied: urllib3<1.23,>=1.21.1 in /anaconda3/lib/python3.6/site-packages (from requests)\n",
      "Requirement already satisfied: certifi>=2017.4.17 in /anaconda3/lib/python3.6/site-packages (from requests)\n",
      "Requirement already satisfied: datascience in /anaconda3/lib/python3.6/site-packages\n",
      "Requirement already satisfied: folium==0.1.5 in /anaconda3/lib/python3.6/site-packages (from datascience)\n",
      "Requirement already satisfied: coveralls==0.5 in /anaconda3/lib/python3.6/site-packages (from datascience)\n",
      "Requirement already satisfied: pytest in /anaconda3/lib/python3.6/site-packages (from datascience)\n",
      "Requirement already satisfied: setuptools in /anaconda3/lib/python3.6/site-packages (from datascience)\n",
      "Requirement already satisfied: coverage==3.7.1 in /anaconda3/lib/python3.6/site-packages (from datascience)\n",
      "Requirement already satisfied: sphinx in /anaconda3/lib/python3.6/site-packages (from datascience)\n",
      "Requirement already satisfied: docopt>=0.6.1 in /anaconda3/lib/python3.6/site-packages (from coveralls==0.5->datascience)\n",
      "Requirement already satisfied: PyYAML>=3.10 in /anaconda3/lib/python3.6/site-packages (from coveralls==0.5->datascience)\n",
      "Requirement already satisfied: requests>=1.0.0 in /anaconda3/lib/python3.6/site-packages (from coveralls==0.5->datascience)\n",
      "Requirement already satisfied: py>=1.4.33 in /anaconda3/lib/python3.6/site-packages (from pytest->datascience)\n",
      "Requirement already satisfied: six>=1.5 in /anaconda3/lib/python3.6/site-packages (from sphinx->datascience)\n",
      "Requirement already satisfied: Jinja2>=2.3 in /anaconda3/lib/python3.6/site-packages (from sphinx->datascience)\n",
      "Requirement already satisfied: Pygments>=2.0 in /anaconda3/lib/python3.6/site-packages (from sphinx->datascience)\n",
      "Requirement already satisfied: docutils>=0.11 in /anaconda3/lib/python3.6/site-packages (from sphinx->datascience)\n",
      "Requirement already satisfied: snowballstemmer>=1.1 in /anaconda3/lib/python3.6/site-packages (from sphinx->datascience)\n",
      "Requirement already satisfied: babel!=2.0,>=1.3 in /anaconda3/lib/python3.6/site-packages (from sphinx->datascience)\n",
      "Requirement already satisfied: alabaster<0.8,>=0.7 in /anaconda3/lib/python3.6/site-packages (from sphinx->datascience)\n",
      "Requirement already satisfied: imagesize in /anaconda3/lib/python3.6/site-packages (from sphinx->datascience)\n",
      "Requirement already satisfied: sphinxcontrib-websupport in /anaconda3/lib/python3.6/site-packages (from sphinx->datascience)\n",
      "Requirement already satisfied: chardet<3.1.0,>=3.0.2 in /anaconda3/lib/python3.6/site-packages (from requests>=1.0.0->coveralls==0.5->datascience)\n",
      "Requirement already satisfied: idna<2.7,>=2.5 in /anaconda3/lib/python3.6/site-packages (from requests>=1.0.0->coveralls==0.5->datascience)\n",
      "Requirement already satisfied: urllib3<1.23,>=1.21.1 in /anaconda3/lib/python3.6/site-packages (from requests>=1.0.0->coveralls==0.5->datascience)\n",
      "Requirement already satisfied: certifi>=2017.4.17 in /anaconda3/lib/python3.6/site-packages (from requests>=1.0.0->coveralls==0.5->datascience)\n",
      "Requirement already satisfied: MarkupSafe>=0.23 in /anaconda3/lib/python3.6/site-packages (from Jinja2>=2.3->sphinx->datascience)\n",
      "Requirement already satisfied: pytz>=0a in /anaconda3/lib/python3.6/site-packages (from babel!=2.0,>=1.3->sphinx->datascience)\n"
     ]
    }
   ],
   "source": [
    "! pip install spotipy\n",
    "! pip install requests\n",
    "! pip install datascience"
   ]
  },
  {
   "cell_type": "code",
   "execution_count": 3,
   "metadata": {
    "collapsed": true
   },
   "outputs": [],
   "source": [
    "import spotipy\n",
    "import requests\n",
    "from spotipy.oauth2 import SpotifyClientCredentials\n",
    "from datascience import *\n",
    "import numpy as np\n",
    "import csv"
   ]
  },
  {
   "cell_type": "code",
   "execution_count": 4,
   "metadata": {
    "collapsed": true
   },
   "outputs": [],
   "source": [
    "client_id = \"a6baf8a584134ff3b272d789974bffe4\"\n",
    "client_secret = \"0d3cd888a21e488d98dd767079471ea7\"\n",
    "client_credentials_manager = SpotifyClientCredentials(client_id, client_secret)\n",
    "token = client_credentials_manager.get_access_token()"
   ]
  },
  {
   "cell_type": "code",
   "execution_count": 5,
   "metadata": {
    "collapsed": true
   },
   "outputs": [],
   "source": [
    "def lookup(ID, feature):\n",
    "    if ID == \"nan\":\n",
    "        return \"NA\"\n",
    "    sp = spotipy.Spotify(auth = token)\n",
    "    results = sp.audio_features(ID)\n",
    "    results = results[0]\n",
    "    return results[feature]"
   ]
  },
  {
   "cell_type": "code",
   "execution_count": 6,
   "metadata": {},
   "outputs": [
    {
     "data": {
      "text/html": [
       "<table border=\"1\" class=\"dataframe\">\n",
       "    <thead>\n",
       "        <tr>\n",
       "            <th>song</th> <th>artist</th> <th>id</th>\n",
       "        </tr>\n",
       "    </thead>\n",
       "    <tbody>\n",
       "        <tr>\n",
       "            <td>How Far I'll Go      </td> <td>Auli'i Cravalho                </td> <td>6mb6lVLNrcUgLnEN8QnDJd</td>\n",
       "        </tr>\n",
       "    </tbody>\n",
       "        <tr>\n",
       "            <td>Black SpiderMan      </td> <td>Logic feat. Damian Lemar Hudson</td> <td>7BKUWh5sdtdS17crohRe4L</td>\n",
       "        </tr>\n",
       "    </tbody>\n",
       "        <tr>\n",
       "            <td>You're Still My Sugar</td> <td>Maddie Ross                    </td> <td>4xHvcF6L3F4rtdyFKEkr4X</td>\n",
       "        </tr>\n",
       "    </tbody>\n",
       "        <tr>\n",
       "            <td>Second One to Know   </td> <td>Chris Stapleton                </td> <td>0oTGa77jJ1H5joTG5SvxFj</td>\n",
       "        </tr>\n",
       "    </tbody>\n",
       "        <tr>\n",
       "            <td>Love                 </td> <td>Lana Del Rey                   </td> <td>2Kerz9H9IejzeIpjhDJoYG</td>\n",
       "        </tr>\n",
       "    </tbody>\n",
       "        <tr>\n",
       "            <td>Ella                 </td> <td>Ricardo Arjona                 </td> <td>7hydwXc3IVJIItIif6ZuLH</td>\n",
       "        </tr>\n",
       "    </tbody>\n",
       "        <tr>\n",
       "            <td>iSpy                 </td> <td>Kyle feat. Lil Yachty          </td> <td>2EEeOnHehOozLq4aS0n6SL</td>\n",
       "        </tr>\n",
       "    </tbody>\n",
       "        <tr>\n",
       "            <td>Most Girls           </td> <td>Hailee Steinfeld               </td> <td>10GJQkjRJcZhGTLagFOC62</td>\n",
       "        </tr>\n",
       "    </tbody>\n",
       "        <tr>\n",
       "            <td>Down                 </td> <td>Marian Hill                    </td> <td>5eCkuGPZNl4mISFNPgr3Dd</td>\n",
       "        </tr>\n",
       "    </tbody>\n",
       "        <tr>\n",
       "            <td>Don't Kill My Vibe   </td> <td>Sigrid                         </td> <td>2IOViM71uj8xksoqLb8TCm</td>\n",
       "        </tr>\n",
       "    </tbody>\n",
       "</table>\n",
       "<p>... (40 rows omitted)</p"
      ],
      "text/plain": [
       "song                  | artist                          | id\n",
       "How Far I'll Go       | Auli'i Cravalho                 | 6mb6lVLNrcUgLnEN8QnDJd\n",
       "Black SpiderMan       | Logic feat. Damian Lemar Hudson | 7BKUWh5sdtdS17crohRe4L\n",
       "You're Still My Sugar | Maddie Ross                     | 4xHvcF6L3F4rtdyFKEkr4X\n",
       "Second One to Know    | Chris Stapleton                 | 0oTGa77jJ1H5joTG5SvxFj\n",
       "Love                  | Lana Del Rey                    | 2Kerz9H9IejzeIpjhDJoYG\n",
       "Ella                  | Ricardo Arjona                  | 7hydwXc3IVJIItIif6ZuLH\n",
       "iSpy                  | Kyle feat. Lil Yachty           | 2EEeOnHehOozLq4aS0n6SL\n",
       "Most Girls            | Hailee Steinfeld                | 10GJQkjRJcZhGTLagFOC62\n",
       "Down                  | Marian Hill                     | 5eCkuGPZNl4mISFNPgr3Dd\n",
       "Don't Kill My Vibe    | Sigrid                          | 2IOViM71uj8xksoqLb8TCm\n",
       "... (40 rows omitted)"
      ]
     },
     "execution_count": 6,
     "metadata": {},
     "output_type": "execute_result"
    }
   ],
   "source": [
    "data = Table.read_table(\"billboard_top_100 - 2017.csv\")\n",
    "data"
   ]
  },
  {
   "cell_type": "code",
   "execution_count": 7,
   "metadata": {
    "collapsed": true
   },
   "outputs": [],
   "source": [
    "features = [\n",
    " 'danceability',\n",
    " 'energy',\n",
    " 'key',\n",
    " 'loudness',\n",
    " 'mode',\n",
    " 'speechiness',\n",
    " 'acousticness',\n",
    " 'instrumentalness',\n",
    " 'liveness',\n",
    " 'valence',\n",
    " 'tempo',\n",
    " 'duration_ms',\n",
    " 'time_signature']"
   ]
  },
  {
   "cell_type": "code",
   "execution_count": 8,
   "metadata": {},
   "outputs": [
    {
     "data": {
      "text/html": [
       "<table border=\"1\" class=\"dataframe\">\n",
       "    <thead>\n",
       "        <tr>\n",
       "            <th>song</th> <th>artist</th> <th>id</th> <th>danceability</th> <th>energy</th> <th>key</th> <th>loudness</th> <th>mode</th> <th>speechiness</th> <th>acousticness</th> <th>instrumentalness</th> <th>liveness</th> <th>valence</th> <th>tempo</th> <th>duration_ms</th> <th>time_signature</th>\n",
       "        </tr>\n",
       "    </thead>\n",
       "    <tbody>\n",
       "        <tr>\n",
       "            <td>How Far I'll Go      </td> <td>Auli'i Cravalho                </td> <td>6mb6lVLNrcUgLnEN8QnDJd</td> <td>0.576       </td> <td>0.319 </td> <td>4   </td> <td>-10.934 </td> <td>1   </td> <td>0.0518     </td> <td>0.603       </td> <td>0               </td> <td>0.173   </td> <td>0.0921 </td> <td>83.632 </td> <td>163387     </td> <td>4             </td>\n",
       "        </tr>\n",
       "    </tbody>\n",
       "        <tr>\n",
       "            <td>Black SpiderMan      </td> <td>Logic feat. Damian Lemar Hudson</td> <td>7BKUWh5sdtdS17crohRe4L</td> <td>0.617       </td> <td>0.869 </td> <td>1   </td> <td>-5.293  </td> <td>1   </td> <td>0.101      </td> <td>0.132       </td> <td>7.38e-05        </td> <td>0.441   </td> <td>0.331  </td> <td>139.994</td> <td>331267     </td> <td>4             </td>\n",
       "        </tr>\n",
       "    </tbody>\n",
       "        <tr>\n",
       "            <td>You're Still My Sugar</td> <td>Maddie Ross                    </td> <td>4xHvcF6L3F4rtdyFKEkr4X</td> <td>0.705       </td> <td>0.806 </td> <td>8   </td> <td>-4.904  </td> <td>0   </td> <td>0.052      </td> <td>0.0197      </td> <td>0.00107         </td> <td>0.0907  </td> <td>0.565  </td> <td>119.982</td> <td>214012     </td> <td>4             </td>\n",
       "        </tr>\n",
       "    </tbody>\n",
       "        <tr>\n",
       "            <td>Second One to Know   </td> <td>Chris Stapleton                </td> <td>0oTGa77jJ1H5joTG5SvxFj</td> <td>0.527       </td> <td>0.893 </td> <td>0   </td> <td>-6.061  </td> <td>0   </td> <td>0.0396     </td> <td>0.0244      </td> <td>0.000753        </td> <td>0.343   </td> <td>0.892  </td> <td>96.73  </td> <td>176067     </td> <td>4             </td>\n",
       "        </tr>\n",
       "    </tbody>\n",
       "        <tr>\n",
       "            <td>Love                 </td> <td>Lana Del Rey                   </td> <td>2Kerz9H9IejzeIpjhDJoYG</td> <td>0.32        </td> <td>0.376 </td> <td>10  </td> <td>-10.885 </td> <td>1   </td> <td>0.033      </td> <td>0.451       </td> <td>0.00198         </td> <td>0.11    </td> <td>0.225  </td> <td>98.132 </td> <td>272743     </td> <td>4             </td>\n",
       "        </tr>\n",
       "    </tbody>\n",
       "        <tr>\n",
       "            <td>Ella                 </td> <td>Ricardo Arjona                 </td> <td>7hydwXc3IVJIItIif6ZuLH</td> <td>0.335       </td> <td>0.763 </td> <td>9   </td> <td>-3.853  </td> <td>1   </td> <td>0.0562     </td> <td>0.0307      </td> <td>0.000106        </td> <td>0.0758  </td> <td>0.403  </td> <td>199.225</td> <td>198040     </td> <td>4             </td>\n",
       "        </tr>\n",
       "    </tbody>\n",
       "        <tr>\n",
       "            <td>iSpy                 </td> <td>Kyle feat. Lil Yachty          </td> <td>2EEeOnHehOozLq4aS0n6SL</td> <td>0.746       </td> <td>0.653 </td> <td>7   </td> <td>-6.745  </td> <td>1   </td> <td>0.289      </td> <td>0.378       </td> <td>0               </td> <td>0.229   </td> <td>0.672  </td> <td>75.016 </td> <td>253107     </td> <td>4             </td>\n",
       "        </tr>\n",
       "    </tbody>\n",
       "        <tr>\n",
       "            <td>Most Girls           </td> <td>Hailee Steinfeld               </td> <td>10GJQkjRJcZhGTLagFOC62</td> <td>0.76        </td> <td>0.588 </td> <td>9   </td> <td>-7.082  </td> <td>1   </td> <td>0.0775     </td> <td>0.0485      </td> <td>0               </td> <td>0.0847  </td> <td>0.384  </td> <td>102.974</td> <td>204400     </td> <td>4             </td>\n",
       "        </tr>\n",
       "    </tbody>\n",
       "        <tr>\n",
       "            <td>Down                 </td> <td>Marian Hill                    </td> <td>5eCkuGPZNl4mISFNPgr3Dd</td> <td>0.597       </td> <td>0.357 </td> <td>3   </td> <td>-14.718 </td> <td>1   </td> <td>0.259      </td> <td>0.644       </td> <td>0.00393         </td> <td>0.125   </td> <td>0.059  </td> <td>84.864 </td> <td>197773     </td> <td>4             </td>\n",
       "        </tr>\n",
       "    </tbody>\n",
       "        <tr>\n",
       "            <td>Don't Kill My Vibe   </td> <td>Sigrid                         </td> <td>2IOViM71uj8xksoqLb8TCm</td> <td>0.544       </td> <td>0.755 </td> <td>10  </td> <td>-4.864  </td> <td>1   </td> <td>0.106      </td> <td>0.248       </td> <td>0.000156        </td> <td>0.244   </td> <td>0.289  </td> <td>150.013</td> <td>184320     </td> <td>4             </td>\n",
       "        </tr>\n",
       "    </tbody>\n",
       "</table>\n",
       "<p>... (40 rows omitted)</p"
      ],
      "text/plain": [
       "song                  | artist                          | id                     | danceability | energy | key  | loudness | mode | speechiness | acousticness | instrumentalness | liveness | valence | tempo   | duration_ms | time_signature\n",
       "How Far I'll Go       | Auli'i Cravalho                 | 6mb6lVLNrcUgLnEN8QnDJd | 0.576        | 0.319  | 4    | -10.934  | 1    | 0.0518      | 0.603        | 0                | 0.173    | 0.0921  | 83.632  | 163387      | 4\n",
       "Black SpiderMan       | Logic feat. Damian Lemar Hudson | 7BKUWh5sdtdS17crohRe4L | 0.617        | 0.869  | 1    | -5.293   | 1    | 0.101       | 0.132        | 7.38e-05         | 0.441    | 0.331   | 139.994 | 331267      | 4\n",
       "You're Still My Sugar | Maddie Ross                     | 4xHvcF6L3F4rtdyFKEkr4X | 0.705        | 0.806  | 8    | -4.904   | 0    | 0.052       | 0.0197       | 0.00107          | 0.0907   | 0.565   | 119.982 | 214012      | 4\n",
       "Second One to Know    | Chris Stapleton                 | 0oTGa77jJ1H5joTG5SvxFj | 0.527        | 0.893  | 0    | -6.061   | 0    | 0.0396      | 0.0244       | 0.000753         | 0.343    | 0.892   | 96.73   | 176067      | 4\n",
       "Love                  | Lana Del Rey                    | 2Kerz9H9IejzeIpjhDJoYG | 0.32         | 0.376  | 10   | -10.885  | 1    | 0.033       | 0.451        | 0.00198          | 0.11     | 0.225   | 98.132  | 272743      | 4\n",
       "Ella                  | Ricardo Arjona                  | 7hydwXc3IVJIItIif6ZuLH | 0.335        | 0.763  | 9    | -3.853   | 1    | 0.0562      | 0.0307       | 0.000106         | 0.0758   | 0.403   | 199.225 | 198040      | 4\n",
       "iSpy                  | Kyle feat. Lil Yachty           | 2EEeOnHehOozLq4aS0n6SL | 0.746        | 0.653  | 7    | -6.745   | 1    | 0.289       | 0.378        | 0                | 0.229    | 0.672   | 75.016  | 253107      | 4\n",
       "Most Girls            | Hailee Steinfeld                | 10GJQkjRJcZhGTLagFOC62 | 0.76         | 0.588  | 9    | -7.082   | 1    | 0.0775      | 0.0485       | 0                | 0.0847   | 0.384   | 102.974 | 204400      | 4\n",
       "Down                  | Marian Hill                     | 5eCkuGPZNl4mISFNPgr3Dd | 0.597        | 0.357  | 3    | -14.718  | 1    | 0.259       | 0.644        | 0.00393          | 0.125    | 0.059   | 84.864  | 197773      | 4\n",
       "Don't Kill My Vibe    | Sigrid                          | 2IOViM71uj8xksoqLb8TCm | 0.544        | 0.755  | 10   | -4.864   | 1    | 0.106       | 0.248        | 0.000156         | 0.244    | 0.289   | 150.013 | 184320      | 4\n",
       "... (40 rows omitted)"
      ]
     },
     "execution_count": 8,
     "metadata": {},
     "output_type": "execute_result"
    }
   ],
   "source": [
    "for feature in features:\n",
    "    data = data.with_column(feature, [lookup(ID, feature) for ID in data.column(\"id\")])\n",
    "data"
   ]
  },
  {
   "cell_type": "code",
   "execution_count": 9,
   "metadata": {},
   "outputs": [],
   "source": [
    "song = data.column(0)\n",
    "artist = data.column(1)\n",
    "ID = data.column(2)\n",
    "danceability = data.column(3)\n",
    "energy = data.column(4)\n",
    "key = data.column(5)\n",
    "loudness = data.column(6)\n",
    "mode = data.column(7)\n",
    "speechiness = data.column(8)\n",
    "acousticness = data.column(9)\n",
    "instrumentalness = data.column(10)\n",
    "liveness = data.column(11)\n",
    "valence = data.column(12)\n",
    "tempo = data.column(13)\n",
    "duration_ms = data.column(14)\n",
    "time_signature = data.column(15)"
   ]
  },
  {
   "cell_type": "code",
   "execution_count": 10,
   "metadata": {
    "collapsed": true
   },
   "outputs": [],
   "source": [
    "data_2017 = [['song', 'artist', 'id'] + features]\n",
    "for i in np.arange(data.num_rows):\n",
    "    data_2017.append([song.item(i),\n",
    "                      artist.item(i),\n",
    "                      ID.item(i),\n",
    "                      danceability.item(i),\n",
    "                      energy.item(i),\n",
    "                      key.item(i),\n",
    "                      loudness.item(i),\n",
    "                      mode.item(i),\n",
    "                      speechiness.item(i),\n",
    "                      acousticness.item(i),\n",
    "                      instrumentalness.item(i),\n",
    "                      liveness.item(i),\n",
    "                      valence.item(i),\n",
    "                      tempo.item(i),\n",
    "                      duration_ms.item(i),\n",
    "                      time_signature.item(i)])"
   ]
  },
  {
   "cell_type": "code",
   "execution_count": 11,
   "metadata": {
    "collapsed": true
   },
   "outputs": [],
   "source": [
    "with open(\"top_songs_2017.csv\", \"w\") as f:\n",
    "    writer = csv.writer(f)\n",
    "    writer.writerows(data_2017)"
   ]
  },
  {
   "cell_type": "code",
   "execution_count": null,
   "metadata": {
    "collapsed": true
   },
   "outputs": [],
   "source": []
  }
 ],
 "metadata": {
  "kernelspec": {
   "display_name": "Python 3",
   "language": "python",
   "name": "python3"
  },
  "language_info": {
   "codemirror_mode": {
    "name": "ipython",
    "version": 3
   },
   "file_extension": ".py",
   "mimetype": "text/x-python",
   "name": "python",
   "nbconvert_exporter": "python",
   "pygments_lexer": "ipython3",
   "version": "3.6.2"
  }
 },
 "nbformat": 4,
 "nbformat_minor": 2
}
