{
 "cells": [
  {
   "cell_type": "code",
   "execution_count": 1,
   "metadata": {
    "collapsed": true
   },
   "outputs": [],
   "source": [
    "import spotipy\n",
    "import requests\n",
    "from spotipy.oauth2 import SpotifyClientCredentials\n",
    "from datascience import *\n",
    "import numpy as np\n",
    "import csv"
   ]
  },
  {
   "cell_type": "code",
   "execution_count": 2,
   "metadata": {
    "collapsed": true
   },
   "outputs": [],
   "source": [
    "client_id = \"a6baf8a584134ff3b272d789974bffe4\"\n",
    "client_secret = \"0d3cd888a21e488d98dd767079471ea7\"\n",
    "client_credentials_manager = SpotifyClientCredentials(client_id, client_secret)\n",
    "token = client_credentials_manager.get_access_token()"
   ]
  },
  {
   "cell_type": "code",
   "execution_count": 3,
   "metadata": {},
   "outputs": [],
   "source": [
    "d12 = Table().read_table(\"../data/cleandata/top_songs_2012.csv\")\n",
    "d13 = Table().read_table(\"../data/cleandata/top_songs_2013.csv\")\n",
    "d14 = Table().read_table(\"../data/cleandata/top_songs_2014.csv\")\n",
    "d15 = Table().read_table(\"../data/cleandata/top_songs_2015.csv\")\n",
    "d16 = Table().read_table(\"../data/cleandata/top_songs_2016.csv\")"
   ]
  },
  {
   "cell_type": "markdown",
   "metadata": {},
   "source": [
    "3 - danceability, 4 - energy, 6 - loudness, 7 - mode, 8 - speechiness, 9 - acousticness, 10 - instrumentalness, 11 - liveness, 12 - valience"
   ]
  },
  {
   "cell_type": "code",
   "execution_count": 6,
   "metadata": {
    "collapsed": true
   },
   "outputs": [],
   "source": [
    "def attribute(year):\n",
    "    d = Table().read_table(\"../data/cleandata/top_songs_\" + str(year) + \".csv\")\n",
    "    features = [year]\n",
    "    columns = [3, 4, 6, 7, 8, 9, 10, 11]\n",
    "    for col in columns:\n",
    "        features += [np.mean(d.column(col))]\n",
    "    return features"
   ]
  },
  {
   "cell_type": "code",
   "execution_count": 7,
   "metadata": {},
   "outputs": [
    {
     "data": {
      "text/html": [
       "<table border=\"1\" class=\"dataframe\">\n",
       "    <thead>\n",
       "        <tr>\n",
       "            <th>year</th> <th>danceability</th> <th>energy</th> <th>mode</th> <th>speechiness</th> <th>acousticness</th> <th>instrumentalness</th> <th>liveness</th> <th>valience</th>\n",
       "        </tr>\n",
       "    </thead>\n",
       "    <tbody>\n",
       "        <tr>\n",
       "            <td>2012</td> <td>0.65165     </td> <td>0.73668 </td> <td>-5.18692</td> <td>0.63       </td> <td>0.086123    </td> <td>0.111053        </td> <td>0.00255943 </td> <td>0.189717</td>\n",
       "        </tr>\n",
       "    </tbody>\n",
       "        <tr>\n",
       "            <td>2013</td> <td>0.63636     </td> <td>0.70664 </td> <td>-5.58481</td> <td>0.68       </td> <td>0.074624    </td> <td>0.12694         </td> <td>0.00633062 </td> <td>0.170676</td>\n",
       "        </tr>\n",
       "    </tbody>\n",
       "        <tr>\n",
       "            <td>2014</td> <td>0.65464     </td> <td>0.69486 </td> <td>-5.47043</td> <td>0.68       </td> <td>0.080718    </td> <td>0.138457        </td> <td>0.00649905 </td> <td>0.167796</td>\n",
       "        </tr>\n",
       "    </tbody>\n",
       "        <tr>\n",
       "            <td>2015</td> <td>0.65334     </td> <td>0.65451 </td> <td>-5.9646 </td> <td>0.62       </td> <td>0.093221    </td> <td>0.17243         </td> <td>0.000844622</td> <td>0.184377</td>\n",
       "        </tr>\n",
       "    </tbody>\n",
       "        <tr>\n",
       "            <td>2016</td> <td>0.66189     </td> <td>0.628465</td> <td>-6.42864</td> <td>0.5        </td> <td>0.119507    </td> <td>0.180886        </td> <td>0.00438409 </td> <td>0.176729</td>\n",
       "        </tr>\n",
       "    </tbody>\n",
       "</table>"
      ],
      "text/plain": [
       "year | danceability | energy   | mode     | speechiness | acousticness | instrumentalness | liveness    | valience\n",
       "2012 | 0.65165      | 0.73668  | -5.18692 | 0.63        | 0.086123     | 0.111053         | 0.00255943  | 0.189717\n",
       "2013 | 0.63636      | 0.70664  | -5.58481 | 0.68        | 0.074624     | 0.12694          | 0.00633062  | 0.170676\n",
       "2014 | 0.65464      | 0.69486  | -5.47043 | 0.68        | 0.080718     | 0.138457         | 0.00649905  | 0.167796\n",
       "2015 | 0.65334      | 0.65451  | -5.9646  | 0.62        | 0.093221     | 0.17243          | 0.000844622 | 0.184377\n",
       "2016 | 0.66189      | 0.628465 | -6.42864 | 0.5         | 0.119507     | 0.180886         | 0.00438409  | 0.176729"
      ]
     },
     "execution_count": 7,
     "metadata": {},
     "output_type": "execute_result"
    }
   ],
   "source": [
    "mean_data = Table().with_columns(\"year\", [],\n",
    "                     \"danceability\", [],\n",
    "                     \"energy\", [],\n",
    "                     \"mode\", [],\n",
    "                     \"speechiness\", [],\n",
    "                     \"acousticness\", [],\n",
    "                     \"instrumentalness\", [],\n",
    "                     \"liveness\", [],\n",
    "                     \"valience\", [])\n",
    "years = [2012, 2013, 2014, 2015, 2016]\n",
    "for year in years:\n",
    "    mean_data = mean_data.with_row(attribute(year))\n",
    "mean_data"
   ]
  },
  {
   "cell_type": "code",
   "execution_count": 8,
   "metadata": {},
   "outputs": [],
   "source": [
    "mean_data.scatter(\"year\")"
   ]
  },
  {
   "cell_type": "code",
   "execution_count": null,
   "metadata": {
    "collapsed": true
   },
   "outputs": [],
   "source": []
  }
 ],
 "metadata": {
  "kernelspec": {
   "display_name": "Python 3",
   "language": "python",
   "name": "python3"
  },
  "language_info": {
   "codemirror_mode": {
    "name": "ipython",
    "version": 3
   },
   "file_extension": ".py",
   "mimetype": "text/x-python",
   "name": "python",
   "nbconvert_exporter": "python",
   "pygments_lexer": "ipython3",
   "version": "3.6.2"
  }
 },
 "nbformat": 4,
 "nbformat_minor": 2
}
