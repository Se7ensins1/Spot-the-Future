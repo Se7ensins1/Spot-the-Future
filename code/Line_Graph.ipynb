{
 "cells": [
  {
   "cell_type": "code",
   "execution_count": 1,
   "metadata": {
    "collapsed": true
   },
   "outputs": [],
   "source": [
    "import spotipy\n",
    "import requests\n",
    "from spotipy.oauth2 import SpotifyClientCredentials\n",
    "from datascience import *\n",
    "import numpy as np\n",
    "import csv"
   ]
  },
  {
   "cell_type": "code",
   "execution_count": 2,
   "metadata": {
    "collapsed": true
   },
   "outputs": [],
   "source": [
    "client_id = \"a6baf8a584134ff3b272d789974bffe4\"\n",
    "client_secret = \"0d3cd888a21e488d98dd767079471ea7\"\n",
    "client_credentials_manager = SpotifyClientCredentials(client_id, client_secret)\n",
    "token = client_credentials_manager.get_access_token()"
   ]
  },
  {
   "cell_type": "code",
   "execution_count": 42,
   "metadata": {},
   "outputs": [],
   "source": [
    "d12 = Table().read_table(\"./data/cleandata/top_songs_2012.csv\")\n",
    "d13 = Table().read_table(\"./data/cleandata/top_songs_2013.csv\")\n",
    "d14 = Table().read_table(\"./data/cleandata/top_songs_2014.csv\")\n",
    "d15 = Table().read_table(\"./data/cleandata/top_songs_2015.csv\")\n",
    "d16 = Table().read_table(\"./data/cleandata/top_songs_2016.csv\")"
   ]
  },
  {
   "cell_type": "code",
   "execution_count": 11,
   "metadata": {
    "scrolled": false
   },
   "outputs": [
    {
     "data": {
      "text/html": [
       "<table border=\"1\" class=\"dataframe\">\n",
       "    <thead>\n",
       "        <tr>\n",
       "            <th>song</th> <th>artist</th> <th>id</th> <th>danceability</th> <th>energy</th> <th>key</th> <th>loudness</th> <th>mode</th> <th>speechiness</th> <th>acousticness</th> <th>instrumentalness</th> <th>liveness</th> <th>valence</th> <th>tempo</th> <th>duration_ms</th> <th>time_signature</th>\n",
       "        </tr>\n",
       "    </thead>\n",
       "    <tbody>\n",
       "        <tr>\n",
       "            <td>Somebody That I Used to Know    </td> <td>Gotye featuring Kimbra         </td> <td>4wCmqSrbyCgxEXROQE6vtV</td> <td>0.857       </td> <td>0.517 </td> <td>0   </td> <td>-6.972  </td> <td>1   </td> <td>0.0384     </td> <td>0.565       </td> <td>0.000195        </td> <td>0.102   </td> <td>0.754  </td> <td>129.063</td> <td>244973     </td> <td>4             </td>\n",
       "        </tr>\n",
       "    </tbody>\n",
       "        <tr>\n",
       "            <td>Call Me Maybe                   </td> <td>Carly Rae Jepsen               </td> <td>3TGRqZ0a2l1LRblBkJoaDx</td> <td>0.778       </td> <td>0.585 </td> <td>7   </td> <td>-6.502  </td> <td>1   </td> <td>0.0435     </td> <td>0.0123      </td> <td>0               </td> <td>0.108   </td> <td>0.626  </td> <td>120.069</td> <td>193400     </td> <td>4             </td>\n",
       "        </tr>\n",
       "    </tbody>\n",
       "        <tr>\n",
       "            <td>We Are Young                    </td> <td>Fun featuring Janelle Monáe    </td> <td>7a86XRg84qjasly9f6bPSD</td> <td>0.378       </td> <td>0.638 </td> <td>10  </td> <td>-5.576  </td> <td>1   </td> <td>0.075      </td> <td>0.02        </td> <td>7.66e-05        </td> <td>0.0849  </td> <td>0.735  </td> <td>184.086</td> <td>250627     </td> <td>4             </td>\n",
       "        </tr>\n",
       "    </tbody>\n",
       "        <tr>\n",
       "            <td>Payphone                        </td> <td>Maroon 5 featuring Wiz Khalifa </td> <td>1LmN9SSHISbtp9LoaR5ZVJ</td> <td>0.74        </td> <td>0.746 </td> <td>4   </td> <td>-4.696  </td> <td>1   </td> <td>0.0424     </td> <td>0.0198      </td> <td>0               </td> <td>0.363   </td> <td>0.505  </td> <td>110.01 </td> <td>231387     </td> <td>4             </td>\n",
       "        </tr>\n",
       "    </tbody>\n",
       "        <tr>\n",
       "            <td>Lights                          </td> <td>Ellie Goulding                 </td> <td>7gUpO6td4OOnu0Lf9vhcIV</td> <td>0.684       </td> <td>0.794 </td> <td>8   </td> <td>-6.08   </td> <td>0   </td> <td>0.0375     </td> <td>0.0344      </td> <td>0.0445          </td> <td>0.111   </td> <td>0.773  </td> <td>120.024</td> <td>211800     </td> <td>4             </td>\n",
       "        </tr>\n",
       "    </tbody>\n",
       "        <tr>\n",
       "            <td>Glad You Came                   </td> <td>The Wanted                     </td> <td>3AGOgQzp0YcPH41u9p7dOp</td> <td>0.755       </td> <td>0.838 </td> <td>7   </td> <td>-4.5    </td> <td>0   </td> <td>0.0687     </td> <td>0.0643      </td> <td>1.59e-05        </td> <td>0.118   </td> <td>0.473  </td> <td>126.877</td> <td>198187     </td> <td>4             </td>\n",
       "        </tr>\n",
       "    </tbody>\n",
       "        <tr>\n",
       "            <td>Stronger (What Doesn't Kill You)</td> <td>Kelly Clarkson                 </td> <td>6D60klaHqbCl9ySc8VcRss</td> <td>0.562       </td> <td>0.939 </td> <td>0   </td> <td>-4.282  </td> <td>1   </td> <td>0.0475     </td> <td>0.046       </td> <td>0               </td> <td>0.112   </td> <td>0.684  </td> <td>116.044</td> <td>221947     </td> <td>4             </td>\n",
       "        </tr>\n",
       "    </tbody>\n",
       "        <tr>\n",
       "            <td>We Found Love                   </td> <td>Rihanna featuring Calvin Harris</td> <td>6qn9YLKt13AGvpq9jfO8py</td> <td>0.737       </td> <td>0.758 </td> <td>1   </td> <td>-4.389  </td> <td>1   </td> <td>0.057      </td> <td>0.0253      </td> <td>0.0019          </td> <td>0.169   </td> <td>0.608  </td> <td>128.007</td> <td>215227     </td> <td>4             </td>\n",
       "        </tr>\n",
       "    </tbody>\n",
       "        <tr>\n",
       "            <td>Starships                       </td> <td>Nicki Minaj                    </td> <td>59RSrxkSKSixEWBAIvE5Wa</td> <td>0.748       </td> <td>0.727 </td> <td>11  </td> <td>-2.42   </td> <td>0   </td> <td>0.0871     </td> <td>0.167       </td> <td>0               </td> <td>0.166   </td> <td>0.69   </td> <td>125.014</td> <td>210627     </td> <td>4             </td>\n",
       "        </tr>\n",
       "    </tbody>\n",
       "        <tr>\n",
       "            <td>What Makes You Beautiful        </td> <td>One Direction                  </td> <td>3SPDQfj2UfWq6A2NllZnzn</td> <td>0.729       </td> <td>0.771 </td> <td>4   </td> <td>-2.451  </td> <td>1   </td> <td>0.0725     </td> <td>0.00761     </td> <td>0               </td> <td>0.087   </td> <td>0.873  </td> <td>125.011</td> <td>198053     </td> <td>4             </td>\n",
       "        </tr>\n",
       "    </tbody>\n",
       "</table>\n",
       "<p>... (90 rows omitted)</p"
      ],
      "text/plain": [
       "song                             | artist                          | id                     | danceability | energy | key  | loudness | mode | speechiness | acousticness | instrumentalness | liveness | valence | tempo   | duration_ms | time_signature\n",
       "Somebody That I Used to Know     | Gotye featuring Kimbra          | 4wCmqSrbyCgxEXROQE6vtV | 0.857        | 0.517  | 0    | -6.972   | 1    | 0.0384      | 0.565        | 0.000195         | 0.102    | 0.754   | 129.063 | 244973      | 4\n",
       "Call Me Maybe                    | Carly Rae Jepsen                | 3TGRqZ0a2l1LRblBkJoaDx | 0.778        | 0.585  | 7    | -6.502   | 1    | 0.0435      | 0.0123       | 0                | 0.108    | 0.626   | 120.069 | 193400      | 4\n",
       "We Are Young                     | Fun featuring Janelle Monáe     | 7a86XRg84qjasly9f6bPSD | 0.378        | 0.638  | 10   | -5.576   | 1    | 0.075       | 0.02         | 7.66e-05         | 0.0849   | 0.735   | 184.086 | 250627      | 4\n",
       "Payphone                         | Maroon 5 featuring Wiz Khalifa  | 1LmN9SSHISbtp9LoaR5ZVJ | 0.74         | 0.746  | 4    | -4.696   | 1    | 0.0424      | 0.0198       | 0                | 0.363    | 0.505   | 110.01  | 231387      | 4\n",
       "Lights                           | Ellie Goulding                  | 7gUpO6td4OOnu0Lf9vhcIV | 0.684        | 0.794  | 8    | -6.08    | 0    | 0.0375      | 0.0344       | 0.0445           | 0.111    | 0.773   | 120.024 | 211800      | 4\n",
       "Glad You Came                    | The Wanted                      | 3AGOgQzp0YcPH41u9p7dOp | 0.755        | 0.838  | 7    | -4.5     | 0    | 0.0687      | 0.0643       | 1.59e-05         | 0.118    | 0.473   | 126.877 | 198187      | 4\n",
       "Stronger (What Doesn't Kill You) | Kelly Clarkson                  | 6D60klaHqbCl9ySc8VcRss | 0.562        | 0.939  | 0    | -4.282   | 1    | 0.0475      | 0.046        | 0                | 0.112    | 0.684   | 116.044 | 221947      | 4\n",
       "We Found Love                    | Rihanna featuring Calvin Harris | 6qn9YLKt13AGvpq9jfO8py | 0.737        | 0.758  | 1    | -4.389   | 1    | 0.057       | 0.0253       | 0.0019           | 0.169    | 0.608   | 128.007 | 215227      | 4\n",
       "Starships                        | Nicki Minaj                     | 59RSrxkSKSixEWBAIvE5Wa | 0.748        | 0.727  | 11   | -2.42    | 0    | 0.0871      | 0.167        | 0                | 0.166    | 0.69    | 125.014 | 210627      | 4\n",
       "What Makes You Beautiful         | One Direction                   | 3SPDQfj2UfWq6A2NllZnzn | 0.729        | 0.771  | 4    | -2.451   | 1    | 0.0725      | 0.00761      | 0                | 0.087    | 0.873   | 125.011 | 198053      | 4\n",
       "... (90 rows omitted)"
      ]
     },
     "execution_count": 11,
     "metadata": {},
     "output_type": "execute_result"
    }
   ],
   "source": [
    "d12"
   ]
  },
  {
   "cell_type": "code",
   "execution_count": 36,
   "metadata": {},
   "outputs": [
    {
     "data": {
      "text/html": [
       "<table border=\"1\" class=\"dataframe\">\n",
       "    <thead>\n",
       "        <tr>\n",
       "            <th>song</th> <th>artist</th> <th>id</th> <th>danceability</th> <th>energy</th> <th>key</th> <th>loudness</th> <th>mode</th> <th>speechiness</th> <th>acousticness</th> <th>instrumentalness</th> <th>liveness</th> <th>valence</th> <th>tempo</th> <th>duration_ms</th> <th>time_signature</th>\n",
       "        </tr>\n",
       "    </thead>\n",
       "    <tbody>\n",
       "        <tr>\n",
       "            <td>Cups (Pitch Perfect's When I'm Gone)</td> <td>Anna Kendrick                     </td> <td>2sCl0FFOzZSmYZs90zOpd1</td> <td>0.886       </td> <td>0.448 </td> <td>0   </td> <td>-8.866  </td> <td>1   </td> <td>0.112      </td> <td>0.0582      </td> <td>0.00658         </td> <td>0.035   </td> <td>0.731  </td> <td>129.966</td> <td>126880     </td> <td>4             </td>\n",
       "        </tr>\n",
       "    </tbody>\n",
       "        <tr>\n",
       "            <td>Holy Grail                          </td> <td>Jay Z featuring Justin Timberlake </td> <td>nan                   </td> <td>nan         </td> <td>nan   </td> <td>nan </td> <td>nan     </td> <td>nan </td> <td>nan        </td> <td>nan         </td> <td>nan             </td> <td>nan     </td> <td>nan    </td> <td>nan    </td> <td>nan        </td> <td>nan           </td>\n",
       "        </tr>\n",
       "    </tbody>\n",
       "        <tr>\n",
       "            <td>Scream & Shout                      </td> <td>will.i.am featuring Britney Spears</td> <td>5r6YGzvr9oZGVK6QVbh0HB</td> <td>0.773       </td> <td>0.69  </td> <td>0   </td> <td>-6.835  </td> <td>1   </td> <td>0.0679     </td> <td>0.0216      </td> <td>7.8e-05         </td> <td>0.128   </td> <td>0.489  </td> <td>130.042</td> <td>283400     </td> <td>4             </td>\n",
       "        </tr>\n",
       "    </tbody>\n",
       "        <tr>\n",
       "            <td>Clarity                             </td> <td>Zedd featuring Foxes              </td> <td>60wwxj6Dd9NJlirf84wr2c</td> <td>0.514       </td> <td>0.776 </td> <td>8   </td> <td>-3.393  </td> <td>1   </td> <td>0.0783     </td> <td>0.0371      </td> <td>0               </td> <td>0.0735  </td> <td>0.21   </td> <td>127.975</td> <td>271427     </td> <td>4             </td>\n",
       "        </tr>\n",
       "    </tbody>\n",
       "        <tr>\n",
       "            <td>Sail                                </td> <td>Awolnation                        </td> <td>5xhQChGGhKLWqBqX4XhtYE</td> <td>0.825       </td> <td>0.435 </td> <td>1   </td> <td>-9.582  </td> <td>1   </td> <td>0.0568     </td> <td>0.452       </td> <td>0.609           </td> <td>0.0953  </td> <td>0.243  </td> <td>119.038</td> <td>259102     </td> <td>4             </td>\n",
       "        </tr>\n",
       "    </tbody>\n",
       "</table>"
      ],
      "text/plain": [
       "song                                 | artist                             | id                     | danceability | energy | key  | loudness | mode | speechiness | acousticness | instrumentalness | liveness | valence | tempo   | duration_ms | time_signature\n",
       "Cups (Pitch Perfect's When I'm Gone) | Anna Kendrick                      | 2sCl0FFOzZSmYZs90zOpd1 | 0.886        | 0.448  | 0    | -8.866   | 1    | 0.112       | 0.0582       | 0.00658          | 0.035    | 0.731   | 129.966 | 126880      | 4\n",
       "Holy Grail                           | Jay Z featuring Justin Timberlake  | nan                    | nan          | nan    | nan  | nan      | nan  | nan         | nan          | nan              | nan      | nan     | nan     | nan         | nan\n",
       "Scream & Shout                       | will.i.am featuring Britney Spears | 5r6YGzvr9oZGVK6QVbh0HB | 0.773        | 0.69   | 0    | -6.835   | 1    | 0.0679      | 0.0216       | 7.8e-05          | 0.128    | 0.489   | 130.042 | 283400      | 4\n",
       "Clarity                              | Zedd featuring Foxes               | 60wwxj6Dd9NJlirf84wr2c | 0.514        | 0.776  | 8    | -3.393   | 1    | 0.0783      | 0.0371       | 0                | 0.0735   | 0.21    | 127.975 | 271427      | 4\n",
       "Sail                                 | Awolnation                         | 5xhQChGGhKLWqBqX4XhtYE | 0.825        | 0.435  | 1    | -9.582   | 1    | 0.0568      | 0.452        | 0.609            | 0.0953   | 0.243   | 119.038 | 259102      | 4"
      ]
     },
     "execution_count": 36,
     "metadata": {},
     "output_type": "execute_result"
    }
   ],
   "source": [
    "d13.take(np.arange(20, 25))"
   ]
  },
  {
   "cell_type": "code",
   "execution_count": 35,
   "metadata": {},
   "outputs": [
    {
     "data": {
      "text/plain": [
       "array([ 0.781,  0.862,  0.478,  0.452,  0.641,  0.585,  0.778,  0.612,\n",
       "        0.464,  0.671,  0.726,  0.685,  0.619,  0.794,  0.616,  0.596,\n",
       "        0.613,  0.53 ,  0.518,  0.795,  0.886,    nan,  0.773,  0.514,\n",
       "        0.825,  0.612,  0.555,  0.714,  0.656,  0.874,  0.644,  0.793,\n",
       "        0.517,  0.772,  0.658,  0.673,  0.674,  0.71 ,  0.674,  0.561,\n",
       "        0.869,  0.596,  0.688,  0.573,  0.564,  0.592,  0.656,  0.667,\n",
       "        0.482,  0.503,  0.675,  0.488,  0.673,  0.529,  0.736,  0.695,\n",
       "        0.711,  0.672,  0.867,  0.611,  0.662,  0.499,  0.663,  0.693,\n",
       "        0.46 ,  0.561,  0.713,  0.692,  0.526,  0.782,  0.664,  0.562,\n",
       "        0.703,  0.652,  0.642,  0.388,  0.47 ,  0.66 ,  0.714,  0.576,\n",
       "        0.686,  0.761,  0.577,  0.625,  0.421,  0.491,  0.422,  0.674,\n",
       "        0.768,  0.54 ,  0.607,  0.421,  0.532,  0.508,  0.791,  0.551,\n",
       "        0.479,  0.526,  0.941,  0.602])"
      ]
     },
     "execution_count": 35,
     "metadata": {},
     "output_type": "execute_result"
    }
   ],
   "source": [
    "d13.column(3)"
   ]
  },
  {
   "cell_type": "code",
   "execution_count": 34,
   "metadata": {},
   "outputs": [
    {
     "data": {
      "text/plain": [
       "nan"
      ]
     },
     "execution_count": 34,
     "metadata": {},
     "output_type": "execute_result"
    }
   ],
   "source": [
    "np.mean(d13.column(3))"
   ]
  },
  {
   "cell_type": "markdown",
   "metadata": {},
   "source": [
    "3 - danceability, 4 - energy, 6 - loudness, 7 - mode, 8 - speechiness, 9 - acousticness, 10 - instrumentalness, 11 - liveness, 12 - valience"
   ]
  },
  {
   "cell_type": "code",
   "execution_count": 31,
   "metadata": {},
   "outputs": [],
   "source": [
    "def attribute(year):\n",
    "    d = Table().read_table(\"./data/cleandata/top_songs_\" + str(year) + \".csv\")\n",
    "    features = [year]\n",
    "    columns = [3, 4, 6, 7, 8, 9, 10, 11]\n",
    "    for col in columns:\n",
    "        features += [np.mean(d.column(col))]\n",
    "    return features"
   ]
  },
  {
   "cell_type": "code",
   "execution_count": 43,
   "metadata": {},
   "outputs": [
    {
     "data": {
      "text/html": [
       "<table border=\"1\" class=\"dataframe\">\n",
       "    <thead>\n",
       "        <tr>\n",
       "            <th>year</th> <th>danceability</th> <th>energy</th> <th>mode</th> <th>speechiness</th> <th>acousticness</th> <th>instrumentalness</th> <th>liveness</th> <th>valience</th>\n",
       "        </tr>\n",
       "    </thead>\n",
       "    <tbody>\n",
       "        <tr>\n",
       "            <td>2012</td> <td>0.65165     </td> <td>0.73668 </td> <td>-5.18692</td> <td>0.63       </td> <td>0.086123    </td> <td>0.111053        </td> <td>0.00255943 </td> <td>0.189717</td>\n",
       "        </tr>\n",
       "    </tbody>\n",
       "        <tr>\n",
       "            <td>2013</td> <td>0.63636     </td> <td>0.70664 </td> <td>-5.58481</td> <td>0.68       </td> <td>0.074624    </td> <td>0.12694         </td> <td>0.00633062 </td> <td>0.170676</td>\n",
       "        </tr>\n",
       "    </tbody>\n",
       "        <tr>\n",
       "            <td>2014</td> <td>0.65464     </td> <td>0.69486 </td> <td>-5.47043</td> <td>0.68       </td> <td>0.080718    </td> <td>0.138457        </td> <td>0.00649905 </td> <td>0.167796</td>\n",
       "        </tr>\n",
       "    </tbody>\n",
       "        <tr>\n",
       "            <td>2015</td> <td>0.65334     </td> <td>0.65451 </td> <td>-5.9646 </td> <td>0.62       </td> <td>0.093221    </td> <td>0.17243         </td> <td>0.000844622</td> <td>0.184377</td>\n",
       "        </tr>\n",
       "    </tbody>\n",
       "        <tr>\n",
       "            <td>2016</td> <td>0.66189     </td> <td>0.628465</td> <td>-6.42864</td> <td>0.5        </td> <td>0.119507    </td> <td>0.180886        </td> <td>0.00438409 </td> <td>0.176729</td>\n",
       "        </tr>\n",
       "    </tbody>\n",
       "</table>"
      ],
      "text/plain": [
       "year | danceability | energy   | mode     | speechiness | acousticness | instrumentalness | liveness    | valience\n",
       "2012 | 0.65165      | 0.73668  | -5.18692 | 0.63        | 0.086123     | 0.111053         | 0.00255943  | 0.189717\n",
       "2013 | 0.63636      | 0.70664  | -5.58481 | 0.68        | 0.074624     | 0.12694          | 0.00633062  | 0.170676\n",
       "2014 | 0.65464      | 0.69486  | -5.47043 | 0.68        | 0.080718     | 0.138457         | 0.00649905  | 0.167796\n",
       "2015 | 0.65334      | 0.65451  | -5.9646  | 0.62        | 0.093221     | 0.17243          | 0.000844622 | 0.184377\n",
       "2016 | 0.66189      | 0.628465 | -6.42864 | 0.5         | 0.119507     | 0.180886         | 0.00438409  | 0.176729"
      ]
     },
     "execution_count": 43,
     "metadata": {},
     "output_type": "execute_result"
    }
   ],
   "source": [
    "mean_data = Table().with_columns(\"year\", [],\n",
    "                     \"danceability\", [],\n",
    "                     \"energy\", [],\n",
    "                     \"mode\", [],\n",
    "                     \"speechiness\", [],\n",
    "                     \"acousticness\", [],\n",
    "                     \"instrumentalness\", [],\n",
    "                     \"liveness\", [],\n",
    "                     \"valience\", [])\n",
    "years = [2012, 2013, 2014, 2015, 2016]\n",
    "for year in years:\n",
    "    mean_data = mean_data.with_row(attribute(year))\n",
    "mean_data"
   ]
  },
  {
   "cell_type": "code",
   "execution_count": 48,
   "metadata": {
    "collapsed": true
   },
   "outputs": [],
   "source": [
    "mean_data.plot(\"year\", \"danceability\")"
   ]
  },
  {
   "cell_type": "code",
   "execution_count": null,
   "metadata": {
    "collapsed": true
   },
   "outputs": [],
   "source": []
  }
 ],
 "metadata": {
  "kernelspec": {
   "display_name": "Python 3",
   "language": "python",
   "name": "python3"
  },
  "language_info": {
   "codemirror_mode": {
    "name": "ipython",
    "version": 3
   },
   "file_extension": ".py",
   "mimetype": "text/x-python",
   "name": "python",
   "nbconvert_exporter": "python",
   "pygments_lexer": "ipython3",
   "version": "3.6.2"
  }
 },
 "nbformat": 4,
 "nbformat_minor": 2
}
