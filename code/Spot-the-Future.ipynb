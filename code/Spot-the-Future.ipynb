{
 "cells": [
  {
   "cell_type": "code",
   "execution_count": 13,
   "metadata": {
    "scrolled": true
   },
   "outputs": [
    {
     "name": "stdout",
     "output_type": "stream",
     "text": [
      "Requirement already satisfied: spotipy in c:\\users\\anast\\appdata\\local\\programs\\python\\python36\\lib\\site-packages\n",
      "Requirement already satisfied: requests>=1.0 in c:\\users\\anast\\appdata\\local\\programs\\python\\python36\\lib\\site-packages (from spotipy)\n",
      "Requirement already satisfied: urllib3<1.23,>=1.21.1 in c:\\users\\anast\\appdata\\local\\programs\\python\\python36\\lib\\site-packages (from requests>=1.0->spotipy)\n",
      "Requirement already satisfied: chardet<3.1.0,>=3.0.2 in c:\\users\\anast\\appdata\\local\\programs\\python\\python36\\lib\\site-packages (from requests>=1.0->spotipy)\n",
      "Requirement already satisfied: idna<2.7,>=2.5 in c:\\users\\anast\\appdata\\local\\programs\\python\\python36\\lib\\site-packages (from requests>=1.0->spotipy)\n",
      "Requirement already satisfied: certifi>=2017.4.17 in c:\\users\\anast\\appdata\\local\\programs\\python\\python36\\lib\\site-packages (from requests>=1.0->spotipy)\n",
      "Requirement already satisfied: requests in c:\\users\\anast\\appdata\\local\\programs\\python\\python36\\lib\\site-packages\n",
      "Requirement already satisfied: certifi>=2017.4.17 in c:\\users\\anast\\appdata\\local\\programs\\python\\python36\\lib\\site-packages (from requests)\n",
      "Requirement already satisfied: idna<2.7,>=2.5 in c:\\users\\anast\\appdata\\local\\programs\\python\\python36\\lib\\site-packages (from requests)\n",
      "Requirement already satisfied: chardet<3.1.0,>=3.0.2 in c:\\users\\anast\\appdata\\local\\programs\\python\\python36\\lib\\site-packages (from requests)\n",
      "Requirement already satisfied: urllib3<1.23,>=1.21.1 in c:\\users\\anast\\appdata\\local\\programs\\python\\python36\\lib\\site-packages (from requests)\n",
      "Requirement already satisfied: datascience in c:\\users\\anast\\appdata\\local\\programs\\python\\python36\\lib\\site-packages\n",
      "Requirement already satisfied: folium==0.1.5 in c:\\users\\anast\\appdata\\local\\programs\\python\\python36\\lib\\site-packages (from datascience)\n",
      "Requirement already satisfied: sphinx in c:\\users\\anast\\appdata\\local\\programs\\python\\python36\\lib\\site-packages (from datascience)\n",
      "Requirement already satisfied: setuptools in c:\\users\\anast\\appdata\\local\\programs\\python\\python36\\lib\\site-packages (from datascience)\n",
      "Requirement already satisfied: pytest in c:\\users\\anast\\appdata\\local\\programs\\python\\python36\\lib\\site-packages (from datascience)\n",
      "Requirement already satisfied: coverage==3.7.1 in c:\\users\\anast\\appdata\\local\\programs\\python\\python36\\lib\\site-packages (from datascience)\n",
      "Requirement already satisfied: coveralls==0.5 in c:\\users\\anast\\appdata\\local\\programs\\python\\python36\\lib\\site-packages (from datascience)\n",
      "Requirement already satisfied: Jinja2>=2.3 in c:\\users\\anast\\appdata\\local\\programs\\python\\python36\\lib\\site-packages (from sphinx->datascience)\n",
      "Requirement already satisfied: colorama>=0.3.5; sys_platform == \"win32\" in c:\\users\\anast\\appdata\\local\\programs\\python\\python36\\lib\\site-packages (from sphinx->datascience)\n",
      "Requirement already satisfied: babel!=2.0,>=1.3 in c:\\users\\anast\\appdata\\local\\programs\\python\\python36\\lib\\site-packages (from sphinx->datascience)\n",
      "Requirement already satisfied: requests>=2.0.0 in c:\\users\\anast\\appdata\\local\\programs\\python\\python36\\lib\\site-packages (from sphinx->datascience)\n",
      "Requirement already satisfied: sphinxcontrib-websupport in c:\\users\\anast\\appdata\\local\\programs\\python\\python36\\lib\\site-packages (from sphinx->datascience)\n",
      "Requirement already satisfied: six>=1.5 in c:\\users\\anast\\appdata\\local\\programs\\python\\python36\\lib\\site-packages (from sphinx->datascience)\n",
      "Requirement already satisfied: Pygments>=2.0 in c:\\users\\anast\\appdata\\local\\programs\\python\\python36\\lib\\site-packages (from sphinx->datascience)\n",
      "Requirement already satisfied: snowballstemmer>=1.1 in c:\\users\\anast\\appdata\\local\\programs\\python\\python36\\lib\\site-packages (from sphinx->datascience)\n",
      "Requirement already satisfied: alabaster<0.8,>=0.7 in c:\\users\\anast\\appdata\\local\\programs\\python\\python36\\lib\\site-packages (from sphinx->datascience)\n",
      "Requirement already satisfied: docutils>=0.11 in c:\\users\\anast\\appdata\\local\\programs\\python\\python36\\lib\\site-packages (from sphinx->datascience)\n",
      "Requirement already satisfied: imagesize in c:\\users\\anast\\appdata\\local\\programs\\python\\python36\\lib\\site-packages (from sphinx->datascience)\n",
      "Requirement already satisfied: py>=1.4.33 in c:\\users\\anast\\appdata\\local\\programs\\python\\python36\\lib\\site-packages (from pytest->datascience)\n",
      "Requirement already satisfied: PyYAML>=3.10 in c:\\users\\anast\\appdata\\local\\programs\\python\\python36\\lib\\site-packages (from coveralls==0.5->datascience)\n",
      "Requirement already satisfied: docopt>=0.6.1 in c:\\users\\anast\\appdata\\local\\programs\\python\\python36\\lib\\site-packages (from coveralls==0.5->datascience)\n",
      "Requirement already satisfied: MarkupSafe>=0.23 in c:\\users\\anast\\appdata\\local\\programs\\python\\python36\\lib\\site-packages (from Jinja2>=2.3->sphinx->datascience)\n",
      "Requirement already satisfied: pytz>=0a in c:\\users\\anast\\appdata\\local\\programs\\python\\python36\\lib\\site-packages (from babel!=2.0,>=1.3->sphinx->datascience)\n",
      "Requirement already satisfied: certifi>=2017.4.17 in c:\\users\\anast\\appdata\\local\\programs\\python\\python36\\lib\\site-packages (from requests>=2.0.0->sphinx->datascience)\n",
      "Requirement already satisfied: urllib3<1.23,>=1.21.1 in c:\\users\\anast\\appdata\\local\\programs\\python\\python36\\lib\\site-packages (from requests>=2.0.0->sphinx->datascience)\n",
      "Requirement already satisfied: idna<2.7,>=2.5 in c:\\users\\anast\\appdata\\local\\programs\\python\\python36\\lib\\site-packages (from requests>=2.0.0->sphinx->datascience)\n",
      "Requirement already satisfied: chardet<3.1.0,>=3.0.2 in c:\\users\\anast\\appdata\\local\\programs\\python\\python36\\lib\\site-packages (from requests>=2.0.0->sphinx->datascience)\n"
     ]
    }
   ],
   "source": [
    "! pip install spotipy\n",
    "! pip install requests\n",
    "! pip install datascience"
   ]
  },
  {
   "cell_type": "code",
   "execution_count": 14,
   "metadata": {
    "collapsed": true
   },
   "outputs": [],
   "source": [
    "import spotipy\n",
    "import requests\n",
    "from spotipy.oauth2 import SpotifyClientCredentials\n",
    "from datascience import *\n",
    "import numpy as np\n",
    "import csv"
   ]
  },
  {
   "cell_type": "code",
   "execution_count": 15,
   "metadata": {
    "collapsed": true
   },
   "outputs": [],
   "source": [
    "client_id = \"a6baf8a584134ff3b272d789974bffe4\"\n",
    "client_secret = \"0d3cd888a21e488d98dd767079471ea7\"\n",
    "client_credentials_manager = SpotifyClientCredentials(client_id, client_secret)\n",
    "token = client_credentials_manager.get_access_token()"
   ]
  },
  {
   "cell_type": "code",
   "execution_count": 16,
   "metadata": {
    "collapsed": true
   },
   "outputs": [],
   "source": [
    "def lookup(ID, feature):\n",
    "    if ID == \"nan\":\n",
    "        return \"NA\"\n",
    "    sp = spotipy.Spotify(auth = token)\n",
    "    results = sp.audio_features(ID)\n",
    "    results = results[0]\n",
    "    return results[feature]"
   ]
  },
  {
   "cell_type": "code",
   "execution_count": 17,
   "metadata": {},
   "outputs": [
    {
     "data": {
      "text/html": [
       "<table border=\"1\" class=\"dataframe\">\n",
       "    <thead>\n",
       "        <tr>\n",
       "            <th>song</th> <th>artist</th> <th>id</th>\n",
       "        </tr>\n",
       "    </thead>\n",
       "    <tbody>\n",
       "        <tr>\n",
       "            <td>Thrift Shop          </td> <td>Macklemore and Ryan Lewis featuring Wanz         </td> <td>1CmUZGtH29Kx36C1Hleqlz</td>\n",
       "        </tr>\n",
       "    </tbody>\n",
       "        <tr>\n",
       "            <td>Blurred Lines        </td> <td>Robin Thicke featuring T.I. and Pharrell Williams</td> <td>0n4bITAu0Y0nigrz3MFJMb</td>\n",
       "        </tr>\n",
       "    </tbody>\n",
       "        <tr>\n",
       "            <td>Radioactive          </td> <td>Imagine Dragons                                  </td> <td>4G8gkOterJn0Ywt6uhqbhp</td>\n",
       "        </tr>\n",
       "    </tbody>\n",
       "        <tr>\n",
       "            <td>Harlem Shake         </td> <td>Baauer                                           </td> <td>01XFgRZfZI7oBagNf1Loml</td>\n",
       "        </tr>\n",
       "    </tbody>\n",
       "        <tr>\n",
       "            <td>Can't Hold Us        </td> <td>Macklemore and Ryan Lewis featuring Ray Dalton   </td> <td>3bidbhpOYeV4knp8AIu8Xn</td>\n",
       "        </tr>\n",
       "    </tbody>\n",
       "        <tr>\n",
       "            <td>Mirrors              </td> <td>Justin Timberlake                                </td> <td>6aGwF9D2BqmcSzF0JpfzJu</td>\n",
       "        </tr>\n",
       "    </tbody>\n",
       "        <tr>\n",
       "            <td>Just Give Me a Reason</td> <td>Pink featuring Nate Ruess                        </td> <td>4VC5nFbYO4avKksJ9jN4pY</td>\n",
       "        </tr>\n",
       "    </tbody>\n",
       "        <tr>\n",
       "            <td>When I Was Your Man  </td> <td>Bruno Mars                                       </td> <td>0nJW01T7XtvILxQgC5J7Wh</td>\n",
       "        </tr>\n",
       "    </tbody>\n",
       "        <tr>\n",
       "            <td>Cruise               </td> <td>Florida Georgia Line featuring Nelly             </td> <td>0i5el041vd6nxrGEU8QRxy</td>\n",
       "        </tr>\n",
       "    </tbody>\n",
       "        <tr>\n",
       "            <td>Roar                 </td> <td>Katy Perry                                       </td> <td>6F5c58TMEs1byxUstkzVeM</td>\n",
       "        </tr>\n",
       "    </tbody>\n",
       "</table>\n",
       "<p>... (90 rows omitted)</p"
      ],
      "text/plain": [
       "song                  | artist                                            | id\n",
       "Thrift Shop           | Macklemore and Ryan Lewis featuring Wanz          | 1CmUZGtH29Kx36C1Hleqlz\n",
       "Blurred Lines         | Robin Thicke featuring T.I. and Pharrell Williams | 0n4bITAu0Y0nigrz3MFJMb\n",
       "Radioactive           | Imagine Dragons                                   | 4G8gkOterJn0Ywt6uhqbhp\n",
       "Harlem Shake          | Baauer                                            | 01XFgRZfZI7oBagNf1Loml\n",
       "Can't Hold Us         | Macklemore and Ryan Lewis featuring Ray Dalton    | 3bidbhpOYeV4knp8AIu8Xn\n",
       "Mirrors               | Justin Timberlake                                 | 6aGwF9D2BqmcSzF0JpfzJu\n",
       "Just Give Me a Reason | Pink featuring Nate Ruess                         | 4VC5nFbYO4avKksJ9jN4pY\n",
       "When I Was Your Man   | Bruno Mars                                        | 0nJW01T7XtvILxQgC5J7Wh\n",
       "Cruise                | Florida Georgia Line featuring Nelly              | 0i5el041vd6nxrGEU8QRxy\n",
       "Roar                  | Katy Perry                                        | 6F5c58TMEs1byxUstkzVeM\n",
       "... (90 rows omitted)"
      ]
     },
     "execution_count": 17,
     "metadata": {},
     "output_type": "execute_result"
    }
   ],
   "source": [
    "data = Table.read_table(\"./data/rawdata/billboard_top_100 - 2013.csv\")\n",
    "data"
   ]
  },
  {
   "cell_type": "code",
   "execution_count": 18,
   "metadata": {
    "collapsed": true
   },
   "outputs": [],
   "source": [
    "features = [\n",
    " 'danceability',\n",
    " 'energy',\n",
    " 'key',\n",
    " 'loudness',\n",
    " 'mode',\n",
    " 'speechiness',\n",
    " 'acousticness',\n",
    " 'instrumentalness',\n",
    " 'liveness',\n",
    " 'valence',\n",
    " 'tempo',\n",
    " 'duration_ms',\n",
    " 'time_signature']"
   ]
  },
  {
   "cell_type": "code",
   "execution_count": 20,
   "metadata": {},
   "outputs": [
    {
     "data": {
      "text/html": [
       "<table border=\"1\" class=\"dataframe\">\n",
       "    <thead>\n",
       "        <tr>\n",
       "            <th>song</th> <th>artist</th> <th>id</th> <th>danceability</th> <th>energy</th> <th>key</th> <th>loudness</th> <th>mode</th> <th>speechiness</th> <th>acousticness</th> <th>instrumentalness</th> <th>liveness</th> <th>valence</th> <th>tempo</th> <th>duration_ms</th> <th>time_signature</th>\n",
       "        </tr>\n",
       "    </thead>\n",
       "    <tbody>\n",
       "        <tr>\n",
       "            <td>Thrift Shop          </td> <td>Macklemore and Ryan Lewis featuring Wanz         </td> <td>1CmUZGtH29Kx36C1Hleqlz</td> <td>0.781       </td> <td>0.526 </td> <td>6   </td> <td>-6.985  </td> <td>0   </td> <td>0.293      </td> <td>0.0619      </td> <td>0               </td> <td>0.0457  </td> <td>0.662  </td> <td>94.992 </td> <td>235613     </td> <td>4             </td>\n",
       "        </tr>\n",
       "    </tbody>\n",
       "        <tr>\n",
       "            <td>Blurred Lines        </td> <td>Robin Thicke featuring T.I. and Pharrell Williams</td> <td>0n4bITAu0Y0nigrz3MFJMb</td> <td>0.862       </td> <td>0.608 </td> <td>7   </td> <td>-4.762  </td> <td>1   </td> <td>0.0402     </td> <td>0.00373     </td> <td>6.14e-06        </td> <td>0.0856  </td> <td>0.836  </td> <td>120.002</td> <td>263827     </td> <td>4             </td>\n",
       "        </tr>\n",
       "    </tbody>\n",
       "        <tr>\n",
       "            <td>Radioactive          </td> <td>Imagine Dragons                                  </td> <td>4G8gkOterJn0Ywt6uhqbhp</td> <td>0.478       </td> <td>0.799 </td> <td>9   </td> <td>-3.614  </td> <td>1   </td> <td>0.0638     </td> <td>0.126       </td> <td>0.000106        </td> <td>0.76    </td> <td>0.176  </td> <td>136.268</td> <td>186813     </td> <td>4             </td>\n",
       "        </tr>\n",
       "    </tbody>\n",
       "        <tr>\n",
       "            <td>Harlem Shake         </td> <td>Baauer                                           </td> <td>01XFgRZfZI7oBagNf1Loml</td> <td>0.452       </td> <td>0.794 </td> <td>0   </td> <td>-5.151  </td> <td>1   </td> <td>0.0483     </td> <td>0.0111      </td> <td>0.00182         </td> <td>0.416   </td> <td>0.282  </td> <td>137.825</td> <td>196664     </td> <td>4             </td>\n",
       "        </tr>\n",
       "    </tbody>\n",
       "        <tr>\n",
       "            <td>Can't Hold Us        </td> <td>Macklemore and Ryan Lewis featuring Ray Dalton   </td> <td>3bidbhpOYeV4knp8AIu8Xn</td> <td>0.641       </td> <td>0.922 </td> <td>2   </td> <td>-4.457  </td> <td>1   </td> <td>0.0786     </td> <td>0.0291      </td> <td>0               </td> <td>0.0862  </td> <td>0.847  </td> <td>146.078</td> <td>258343     </td> <td>4             </td>\n",
       "        </tr>\n",
       "    </tbody>\n",
       "        <tr>\n",
       "            <td>Mirrors              </td> <td>Justin Timberlake                                </td> <td>6aGwF9D2BqmcSzF0JpfzJu</td> <td>0.585       </td> <td>0.641 </td> <td>2   </td> <td>-7.428  </td> <td>1   </td> <td>0.0319     </td> <td>0.011       </td> <td>0               </td> <td>0.115   </td> <td>0.392  </td> <td>139.992</td> <td>218396     </td> <td>4             </td>\n",
       "        </tr>\n",
       "    </tbody>\n",
       "        <tr>\n",
       "            <td>Just Give Me a Reason</td> <td>Pink featuring Nate Ruess                        </td> <td>4VC5nFbYO4avKksJ9jN4pY</td> <td>0.778       </td> <td>0.547 </td> <td>2   </td> <td>-7.273  </td> <td>1   </td> <td>0.0489     </td> <td>0.346       </td> <td>0.000302        </td> <td>0.132   </td> <td>0.441  </td> <td>95.002 </td> <td>242733     </td> <td>4             </td>\n",
       "        </tr>\n",
       "    </tbody>\n",
       "        <tr>\n",
       "            <td>When I Was Your Man  </td> <td>Bruno Mars                                       </td> <td>0nJW01T7XtvILxQgC5J7Wh</td> <td>0.612       </td> <td>0.28  </td> <td>0   </td> <td>-8.648  </td> <td>1   </td> <td>0.0434     </td> <td>0.932       </td> <td>0               </td> <td>0.088   </td> <td>0.387  </td> <td>72.795 </td> <td>213827     </td> <td>4             </td>\n",
       "        </tr>\n",
       "    </tbody>\n",
       "        <tr>\n",
       "            <td>Cruise               </td> <td>Florida Georgia Line featuring Nelly             </td> <td>0i5el041vd6nxrGEU8QRxy</td> <td>0.464       </td> <td>0.945 </td> <td>10  </td> <td>-3.342  </td> <td>1   </td> <td>0.0354     </td> <td>0.0189      </td> <td>0               </td> <td>0.0575  </td> <td>0.877  </td> <td>148.012</td> <td>208960     </td> <td>4             </td>\n",
       "        </tr>\n",
       "    </tbody>\n",
       "        <tr>\n",
       "            <td>Roar                 </td> <td>Katy Perry                                       </td> <td>6F5c58TMEs1byxUstkzVeM</td> <td>0.671       </td> <td>0.766 </td> <td>7   </td> <td>-4.81   </td> <td>0   </td> <td>0.0323     </td> <td>0.00569     </td> <td>6.85e-06        </td> <td>0.549   </td> <td>0.371  </td> <td>89.968 </td> <td>223546     </td> <td>4             </td>\n",
       "        </tr>\n",
       "    </tbody>\n",
       "</table>\n",
       "<p>... (90 rows omitted)</p"
      ],
      "text/plain": [
       "song                  | artist                                            | id                     | danceability | energy | key  | loudness | mode | speechiness | acousticness | instrumentalness | liveness | valence | tempo   | duration_ms | time_signature\n",
       "Thrift Shop           | Macklemore and Ryan Lewis featuring Wanz          | 1CmUZGtH29Kx36C1Hleqlz | 0.781        | 0.526  | 6    | -6.985   | 0    | 0.293       | 0.0619       | 0                | 0.0457   | 0.662   | 94.992  | 235613      | 4\n",
       "Blurred Lines         | Robin Thicke featuring T.I. and Pharrell Williams | 0n4bITAu0Y0nigrz3MFJMb | 0.862        | 0.608  | 7    | -4.762   | 1    | 0.0402      | 0.00373      | 6.14e-06         | 0.0856   | 0.836   | 120.002 | 263827      | 4\n",
       "Radioactive           | Imagine Dragons                                   | 4G8gkOterJn0Ywt6uhqbhp | 0.478        | 0.799  | 9    | -3.614   | 1    | 0.0638      | 0.126        | 0.000106         | 0.76     | 0.176   | 136.268 | 186813      | 4\n",
       "Harlem Shake          | Baauer                                            | 01XFgRZfZI7oBagNf1Loml | 0.452        | 0.794  | 0    | -5.151   | 1    | 0.0483      | 0.0111       | 0.00182          | 0.416    | 0.282   | 137.825 | 196664      | 4\n",
       "Can't Hold Us         | Macklemore and Ryan Lewis featuring Ray Dalton    | 3bidbhpOYeV4knp8AIu8Xn | 0.641        | 0.922  | 2    | -4.457   | 1    | 0.0786      | 0.0291       | 0                | 0.0862   | 0.847   | 146.078 | 258343      | 4\n",
       "Mirrors               | Justin Timberlake                                 | 6aGwF9D2BqmcSzF0JpfzJu | 0.585        | 0.641  | 2    | -7.428   | 1    | 0.0319      | 0.011        | 0                | 0.115    | 0.392   | 139.992 | 218396      | 4\n",
       "Just Give Me a Reason | Pink featuring Nate Ruess                         | 4VC5nFbYO4avKksJ9jN4pY | 0.778        | 0.547  | 2    | -7.273   | 1    | 0.0489      | 0.346        | 0.000302         | 0.132    | 0.441   | 95.002  | 242733      | 4\n",
       "When I Was Your Man   | Bruno Mars                                        | 0nJW01T7XtvILxQgC5J7Wh | 0.612        | 0.28   | 0    | -8.648   | 1    | 0.0434      | 0.932        | 0                | 0.088    | 0.387   | 72.795  | 213827      | 4\n",
       "Cruise                | Florida Georgia Line featuring Nelly              | 0i5el041vd6nxrGEU8QRxy | 0.464        | 0.945  | 10   | -3.342   | 1    | 0.0354      | 0.0189       | 0                | 0.0575   | 0.877   | 148.012 | 208960      | 4\n",
       "Roar                  | Katy Perry                                        | 6F5c58TMEs1byxUstkzVeM | 0.671        | 0.766  | 7    | -4.81    | 0    | 0.0323      | 0.00569      | 6.85e-06         | 0.549    | 0.371   | 89.968  | 223546      | 4\n",
       "... (90 rows omitted)"
      ]
     },
     "execution_count": 20,
     "metadata": {},
     "output_type": "execute_result"
    }
   ],
   "source": [
    "for feature in features:\n",
    "    data = data.with_column(feature, [lookup(ID, feature) for ID in data.column(\"id\")])\n",
    "data"
   ]
  },
  {
   "cell_type": "code",
   "execution_count": 21,
   "metadata": {
    "collapsed": true
   },
   "outputs": [],
   "source": [
    "song = data.column(0)\n",
    "artist = data.column(1)\n",
    "ID = data.column(2)\n",
    "danceability = data.column(3)\n",
    "energy = data.column(4)\n",
    "key = data.column(5)\n",
    "loudness = data.column(6)\n",
    "mode = data.column(7)\n",
    "speechiness = data.column(8)\n",
    "acousticness = data.column(9)\n",
    "instrumentalness = data.column(10)\n",
    "liveness = data.column(11)\n",
    "valence = data.column(12)\n",
    "tempo = data.column(13)\n",
    "duration_ms = data.column(14)\n",
    "time_signature = data.column(15)"
   ]
  },
  {
   "cell_type": "code",
   "execution_count": 22,
   "metadata": {
    "collapsed": true
   },
   "outputs": [],
   "source": [
    "data_2012 = [['song', 'artist', 'id'] + features]\n",
    "for i in np.arange(data.num_rows):\n",
    "    data_2012.append([song.item(i),\n",
    "                      artist.item(i),\n",
    "                      ID.item(i),\n",
    "                      danceability.item(i),\n",
    "                      energy.item(i),\n",
    "                      key.item(i),\n",
    "                      loudness.item(i),\n",
    "                      mode.item(i),\n",
    "                      speechiness.item(i),\n",
    "                      acousticness.item(i),\n",
    "                      instrumentalness.item(i),\n",
    "                      liveness.item(i),\n",
    "                      valence.item(i),\n",
    "                      tempo.item(i),\n",
    "                      duration_ms.item(i),\n",
    "                      time_signature.item(i)])"
   ]
  },
  {
   "cell_type": "code",
   "execution_count": 25,
   "metadata": {
    "collapsed": true
   },
   "outputs": [],
   "source": [
    "with open(\"top_songs_2013.csv\", \"w\") as f:\n",
    "    writer = csv.writer(f)\n",
    "    writer.writerows(data_2012)"
   ]
  },
  {
   "cell_type": "code",
   "execution_count": null,
   "metadata": {
    "collapsed": true
   },
   "outputs": [],
   "source": []
  }
 ],
 "metadata": {
  "kernelspec": {
   "display_name": "Python 3",
   "language": "python",
   "name": "python3"
  },
  "language_info": {
   "codemirror_mode": {
    "name": "ipython",
    "version": 3
   },
   "file_extension": ".py",
   "mimetype": "text/x-python",
   "name": "python",
   "nbconvert_exporter": "python",
   "pygments_lexer": "ipython3",
   "version": "3.6.2"
  }
 },
 "nbformat": 4,
 "nbformat_minor": 2
}
