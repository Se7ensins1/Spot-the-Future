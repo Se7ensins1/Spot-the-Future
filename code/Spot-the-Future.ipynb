{
 "cells": [
  {
   "cell_type": "code",
   "execution_count": null,
   "metadata": {
    "scrolled": true
   },
   "outputs": [],
   "source": [
    "! pip install spotipy\n",
    "! pip install requests\n",
    "! pip install datascience"
   ]
  },
  {
   "cell_type": "code",
   "execution_count": null,
   "metadata": {},
   "outputs": [],
   "source": [
    "import spotipy\n",
    "import requests\n",
    "from spotipy.oauth2 import SpotifyClientCredentials\n",
    "from datascience import *\n",
    "import numpy as np\n",
    "import csv"
   ]
  },
  {
   "cell_type": "code",
   "execution_count": null,
   "metadata": {},
   "outputs": [],
   "source": [
    "client_id = \"a6baf8a584134ff3b272d789974bffe4\"\n",
    "client_secret = \"0d3cd888a21e488d98dd767079471ea7\"\n",
    "client_credentials_manager = SpotifyClientCredentials(client_id, client_secret)\n",
    "token = client_credentials_manager.get_access_token()"
   ]
  },
  {
   "cell_type": "code",
   "execution_count": null,
   "metadata": {},
   "outputs": [],
   "source": [
    "def lookup(ID, feature):\n",
    "    if ID == \"nan\":\n",
    "        return \"NA\"\n",
    "    sp = spotipy.Spotify(auth = token)\n",
    "    results = sp.audio_features(ID)\n",
    "    results = results[0]\n",
    "    return results[feature]"
   ]
  },
  {
   "cell_type": "code",
   "execution_count": null,
   "metadata": {},
   "outputs": [],
   "source": [
    "data = Table.read_table(\"billboard_top_100 - 2012.csv\")\n",
    "data"
   ]
  },
  {
   "cell_type": "code",
   "execution_count": null,
   "metadata": {},
   "outputs": [],
   "source": [
    "features = [\n",
    " 'danceability',\n",
    " 'energy',\n",
    " 'key',\n",
    " 'loudness',\n",
    " 'mode',\n",
    " 'speechiness',\n",
    " 'acousticness',\n",
    " 'instrumentalness',\n",
    " 'liveness',\n",
    " 'valence',\n",
    " 'tempo',\n",
    " 'duration_ms',\n",
    " 'time_signature']"
   ]
  },
  {
   "cell_type": "code",
   "execution_count": null,
   "metadata": {},
   "outputs": [],
   "source": [
    "for feature in features:\n",
    "    data = data.with_column(feature, [lookup(ID, feature) for ID in data.column(\"id\")])\n",
    "data"
   ]
  },
  {
   "cell_type": "code",
   "execution_count": null,
   "metadata": {},
   "outputs": [],
   "source": [
    "song = data.column(0)\n",
    "artist = data.column(1)\n",
    "ID = data.column(2)\n",
    "danceability = data.column(3)\n",
    "energy = data.column(4)\n",
    "key = data.column(5)\n",
    "loudness = data.column(6)\n",
    "mode = data.column(7)\n",
    "speechiness = data.column(8)\n",
    "acousticness = data.column(9)\n",
    "instrumentalness = data.column(10)\n",
    "liveness = data.column(11)\n",
    "valence = data.column(12)\n",
    "tempo = data.column(13)\n",
    "duration_ms = data.column(14)\n",
    "time_signature = data.column(15)"
   ]
  },
  {
   "cell_type": "code",
   "execution_count": null,
   "metadata": {},
   "outputs": [],
   "source": [
    "data_2012 = [['song', 'artist', 'id'] + features]\n",
    "for i in np.arange(data.num_rows):\n",
    "    data_2012.append([song.item(i),\n",
    "                      artist.item(i),\n",
    "                      ID.item(i),\n",
    "                      danceability.item(i),\n",
    "                      energy.item(i),\n",
    "                      key.item(i),\n",
    "                      loudness.item(i),\n",
    "                      mode.item(i),\n",
    "                      speechiness.item(i),\n",
    "                      acousticness.item(i),\n",
    "                      instrumentalness.item(i),\n",
    "                      liveness.item(i),\n",
    "                      valence.item(i),\n",
    "                      tempo.item(i),\n",
    "                      duration_ms.item(i),\n",
    "                      time_signature.item(i)])"
   ]
  },
  {
   "cell_type": "code",
   "execution_count": null,
   "metadata": {},
   "outputs": [],
   "source": [
    "with open(\"test_top_songs_2012.csv\", \"w\") as f:\n",
    "    writer = csv.writer(f)\n",
    "    writer.writerows(data_2012)"
   ]
  }
 ],
 "metadata": {
  "kernelspec": {
   "display_name": "Python 3",
   "language": "python",
   "name": "python3"
  },
  "language_info": {
   "codemirror_mode": {
    "name": "ipython",
    "version": 3
   },
   "file_extension": ".py",
   "mimetype": "text/x-python",
   "name": "python",
   "nbconvert_exporter": "python",
   "pygments_lexer": "ipython3",
   "version": "3.6.1"
  }
 },
 "nbformat": 4,
 "nbformat_minor": 2
}
